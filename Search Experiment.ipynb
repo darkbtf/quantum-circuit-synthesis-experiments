{
 "cells": [
  {
   "cell_type": "code",
   "execution_count": 1,
   "metadata": {},
   "outputs": [
    {
     "name": "stderr",
     "output_type": "stream",
     "text": [
      "C:\\ProgramData\\Anaconda3\\lib\\site-packages\\numpy\\_distributor_init.py:32: UserWarning: loaded more than 1 DLL from .libs:\n",
      "C:\\ProgramData\\Anaconda3\\lib\\site-packages\\numpy\\.libs\\libopenblas.GK7GX5KEQ4F6UYO3P26ULGBQYHGQO7J4.gfortran-win_amd64.dll\n",
      "C:\\ProgramData\\Anaconda3\\lib\\site-packages\\numpy\\.libs\\libopenblas.PYQHXLVVQ7VESDPUVUADXEVJOBGHJPAY.gfortran-win_amd64.dll\n",
      "  stacklevel=1)\n",
      "C:\\ProgramData\\Anaconda3\\lib\\site-packages\\qiskit\\validation\\fields\\custom.py:76: DeprecationWarning: `np.float` is a deprecated alias for the builtin `float`. To silence this warning, use `float` by itself. Doing this will not modify any behavior and is safe. If you specifically wanted the numpy scalar type, use `np.float64` here.\n",
      "Deprecated in NumPy 1.20; for more details and guidance: https://numpy.org/devdocs/release/1.20.0-notes.html#deprecations\n",
      "  numpy.integer, numpy.float,\n",
      "C:\\ProgramData\\Anaconda3\\lib\\site-packages\\qiskit\\quantum_info\\operators\\pauli.py:111: DeprecationWarning: `np.bool` is a deprecated alias for the builtin `bool`. To silence this warning, use `bool` by itself. Doing this will not modify any behavior and is safe. If you specifically wanted the numpy scalar type, use `np.bool_` here.\n",
      "Deprecated in NumPy 1.20; for more details and guidance: https://numpy.org/devdocs/release/1.20.0-notes.html#deprecations\n",
      "  z = np.zeros(len(label), dtype=np.bool)\n",
      "C:\\ProgramData\\Anaconda3\\lib\\site-packages\\qiskit\\quantum_info\\operators\\pauli.py:112: DeprecationWarning: `np.bool` is a deprecated alias for the builtin `bool`. To silence this warning, use `bool` by itself. Doing this will not modify any behavior and is safe. If you specifically wanted the numpy scalar type, use `np.bool_` here.\n",
      "Deprecated in NumPy 1.20; for more details and guidance: https://numpy.org/devdocs/release/1.20.0-notes.html#deprecations\n",
      "  x = np.zeros(len(label), dtype=np.bool)\n",
      "C:\\ProgramData\\Anaconda3\\lib\\site-packages\\qiskit\\quantum_info\\operators\\pauli.py:34: DeprecationWarning: `np.bool` is a deprecated alias for the builtin `bool`. To silence this warning, use `bool` by itself. Doing this will not modify any behavior and is safe. If you specifically wanted the numpy scalar type, use `np.bool_` here.\n",
      "Deprecated in NumPy 1.20; for more details and guidance: https://numpy.org/devdocs/release/1.20.0-notes.html#deprecations\n",
      "  arr = np.asarray(arr).astype(np.bool)\n",
      "C:\\ProgramData\\Anaconda3\\lib\\site-packages\\qiskit\\quantum_info\\operators\\pauli.py:34: DeprecationWarning: `np.bool` is a deprecated alias for the builtin `bool`. To silence this warning, use `bool` by itself. Doing this will not modify any behavior and is safe. If you specifically wanted the numpy scalar type, use `np.bool_` here.\n",
      "Deprecated in NumPy 1.20; for more details and guidance: https://numpy.org/devdocs/release/1.20.0-notes.html#deprecations\n",
      "  arr = np.asarray(arr).astype(np.bool)\n",
      "C:\\ProgramData\\Anaconda3\\lib\\site-packages\\qiskit\\quantum_info\\operators\\pauli.py:111: DeprecationWarning: `np.bool` is a deprecated alias for the builtin `bool`. To silence this warning, use `bool` by itself. Doing this will not modify any behavior and is safe. If you specifically wanted the numpy scalar type, use `np.bool_` here.\n",
      "Deprecated in NumPy 1.20; for more details and guidance: https://numpy.org/devdocs/release/1.20.0-notes.html#deprecations\n",
      "  z = np.zeros(len(label), dtype=np.bool)\n",
      "C:\\ProgramData\\Anaconda3\\lib\\site-packages\\qiskit\\quantum_info\\operators\\pauli.py:112: DeprecationWarning: `np.bool` is a deprecated alias for the builtin `bool`. To silence this warning, use `bool` by itself. Doing this will not modify any behavior and is safe. If you specifically wanted the numpy scalar type, use `np.bool_` here.\n",
      "Deprecated in NumPy 1.20; for more details and guidance: https://numpy.org/devdocs/release/1.20.0-notes.html#deprecations\n",
      "  x = np.zeros(len(label), dtype=np.bool)\n",
      "C:\\ProgramData\\Anaconda3\\lib\\site-packages\\qiskit\\quantum_info\\operators\\pauli.py:34: DeprecationWarning: `np.bool` is a deprecated alias for the builtin `bool`. To silence this warning, use `bool` by itself. Doing this will not modify any behavior and is safe. If you specifically wanted the numpy scalar type, use `np.bool_` here.\n",
      "Deprecated in NumPy 1.20; for more details and guidance: https://numpy.org/devdocs/release/1.20.0-notes.html#deprecations\n",
      "  arr = np.asarray(arr).astype(np.bool)\n",
      "C:\\ProgramData\\Anaconda3\\lib\\site-packages\\qiskit\\quantum_info\\operators\\pauli.py:34: DeprecationWarning: `np.bool` is a deprecated alias for the builtin `bool`. To silence this warning, use `bool` by itself. Doing this will not modify any behavior and is safe. If you specifically wanted the numpy scalar type, use `np.bool_` here.\n",
      "Deprecated in NumPy 1.20; for more details and guidance: https://numpy.org/devdocs/release/1.20.0-notes.html#deprecations\n",
      "  arr = np.asarray(arr).astype(np.bool)\n",
      "C:\\ProgramData\\Anaconda3\\lib\\site-packages\\qiskit\\quantum_info\\operators\\pauli.py:111: DeprecationWarning: `np.bool` is a deprecated alias for the builtin `bool`. To silence this warning, use `bool` by itself. Doing this will not modify any behavior and is safe. If you specifically wanted the numpy scalar type, use `np.bool_` here.\n",
      "Deprecated in NumPy 1.20; for more details and guidance: https://numpy.org/devdocs/release/1.20.0-notes.html#deprecations\n",
      "  z = np.zeros(len(label), dtype=np.bool)\n",
      "C:\\ProgramData\\Anaconda3\\lib\\site-packages\\qiskit\\quantum_info\\operators\\pauli.py:112: DeprecationWarning: `np.bool` is a deprecated alias for the builtin `bool`. To silence this warning, use `bool` by itself. Doing this will not modify any behavior and is safe. If you specifically wanted the numpy scalar type, use `np.bool_` here.\n",
      "Deprecated in NumPy 1.20; for more details and guidance: https://numpy.org/devdocs/release/1.20.0-notes.html#deprecations\n",
      "  x = np.zeros(len(label), dtype=np.bool)\n",
      "C:\\ProgramData\\Anaconda3\\lib\\site-packages\\qiskit\\quantum_info\\operators\\pauli.py:34: DeprecationWarning: `np.bool` is a deprecated alias for the builtin `bool`. To silence this warning, use `bool` by itself. Doing this will not modify any behavior and is safe. If you specifically wanted the numpy scalar type, use `np.bool_` here.\n",
      "Deprecated in NumPy 1.20; for more details and guidance: https://numpy.org/devdocs/release/1.20.0-notes.html#deprecations\n",
      "  arr = np.asarray(arr).astype(np.bool)\n",
      "C:\\ProgramData\\Anaconda3\\lib\\site-packages\\qiskit\\quantum_info\\operators\\pauli.py:34: DeprecationWarning: `np.bool` is a deprecated alias for the builtin `bool`. To silence this warning, use `bool` by itself. Doing this will not modify any behavior and is safe. If you specifically wanted the numpy scalar type, use `np.bool_` here.\n",
      "Deprecated in NumPy 1.20; for more details and guidance: https://numpy.org/devdocs/release/1.20.0-notes.html#deprecations\n",
      "  arr = np.asarray(arr).astype(np.bool)\n",
      "C:\\ProgramData\\Anaconda3\\lib\\site-packages\\qiskit\\quantum_info\\operators\\pauli.py:111: DeprecationWarning: `np.bool` is a deprecated alias for the builtin `bool`. To silence this warning, use `bool` by itself. Doing this will not modify any behavior and is safe. If you specifically wanted the numpy scalar type, use `np.bool_` here.\n",
      "Deprecated in NumPy 1.20; for more details and guidance: https://numpy.org/devdocs/release/1.20.0-notes.html#deprecations\n",
      "  z = np.zeros(len(label), dtype=np.bool)\n",
      "C:\\ProgramData\\Anaconda3\\lib\\site-packages\\qiskit\\quantum_info\\operators\\pauli.py:112: DeprecationWarning: `np.bool` is a deprecated alias for the builtin `bool`. To silence this warning, use `bool` by itself. Doing this will not modify any behavior and is safe. If you specifically wanted the numpy scalar type, use `np.bool_` here.\n",
      "Deprecated in NumPy 1.20; for more details and guidance: https://numpy.org/devdocs/release/1.20.0-notes.html#deprecations\n",
      "  x = np.zeros(len(label), dtype=np.bool)\n",
      "C:\\ProgramData\\Anaconda3\\lib\\site-packages\\qiskit\\quantum_info\\operators\\pauli.py:34: DeprecationWarning: `np.bool` is a deprecated alias for the builtin `bool`. To silence this warning, use `bool` by itself. Doing this will not modify any behavior and is safe. If you specifically wanted the numpy scalar type, use `np.bool_` here.\n",
      "Deprecated in NumPy 1.20; for more details and guidance: https://numpy.org/devdocs/release/1.20.0-notes.html#deprecations\n",
      "  arr = np.asarray(arr).astype(np.bool)\n",
      "C:\\ProgramData\\Anaconda3\\lib\\site-packages\\qiskit\\quantum_info\\operators\\pauli.py:34: DeprecationWarning: `np.bool` is a deprecated alias for the builtin `bool`. To silence this warning, use `bool` by itself. Doing this will not modify any behavior and is safe. If you specifically wanted the numpy scalar type, use `np.bool_` here.\n",
      "Deprecated in NumPy 1.20; for more details and guidance: https://numpy.org/devdocs/release/1.20.0-notes.html#deprecations\n",
      "  arr = np.asarray(arr).astype(np.bool)\n"
     ]
    }
   ],
   "source": [
    "# 1. data: multi control toffoli\n",
    "import qiskit"
   ]
  },
  {
   "cell_type": "code",
   "execution_count": 2,
   "metadata": {},
   "outputs": [],
   "source": [
    "from qiskit.circuit.library.standard_gates.x import MCXGate"
   ]
  },
  {
   "cell_type": "code",
   "execution_count": 3,
   "metadata": {},
   "outputs": [],
   "source": [
    "CX3 = MCXGate(num_ctrl_qubits=3)"
   ]
  },
  {
   "cell_type": "code",
   "execution_count": 6,
   "metadata": {},
   "outputs": [
    {
     "data": {
      "text/html": [
       "<pre style=\"word-wrap: normal;white-space: pre;background: #fff0;line-height: 1.1;font-family: &quot;Courier New&quot;,Courier,monospace\">          \n",
       "q_0: ──■──\n",
       "       │  \n",
       "q_1: ──■──\n",
       "       │  \n",
       "q_2: ──■──\n",
       "     ┌─┴─┐\n",
       "q_3: ┤ X ├\n",
       "     └───┘\n",
       "q_4: ─────\n",
       "          \n",
       "q_5: ─────\n",
       "          \n",
       "q_6: ─────\n",
       "          \n",
       "q_7: ─────\n",
       "          \n",
       "q_8: ─────\n",
       "          \n",
       "q_9: ─────\n",
       "          </pre>"
      ],
      "text/plain": [
       "          \n",
       "q_0: ──■──\n",
       "       │  \n",
       "q_1: ──■──\n",
       "       │  \n",
       "q_2: ──■──\n",
       "     ┌─┴─┐\n",
       "q_3: ┤ X ├\n",
       "     └───┘\n",
       "q_4: ─────\n",
       "          \n",
       "q_5: ─────\n",
       "          \n",
       "q_6: ─────\n",
       "          \n",
       "q_7: ─────\n",
       "          \n",
       "q_8: ─────\n",
       "          \n",
       "q_9: ─────\n",
       "          "
      ]
     },
     "execution_count": 6,
     "metadata": {},
     "output_type": "execute_result"
    }
   ],
   "source": [
    "from qiskit import QuantumCircuit\n",
    "\n",
    "qc = QuantumCircuit(10)\n",
    "qc.mcx([0, 1, 2], 3)\n",
    "qc.draw()"
   ]
  },
  {
   "cell_type": "code",
   "execution_count": 11,
   "metadata": {},
   "outputs": [
    {
     "data": {
      "text/html": [
       "<pre style=\"word-wrap: normal;white-space: pre;background: #fff0;line-height: 1.1;font-family: &quot;Courier New&quot;,Courier,monospace\">                                                                           »\n",
       "q_0: ──────────────────────────────────────────────────────────────────────»\n",
       "                                                ┌───┐    ┌───────────┐     »\n",
       "q_1: ───────────────────────────────────────────┤ X ├────┤ U1(-pi/8) ├──■──»\n",
       "        ┌──────────┐                            └─┬─┘    └───────────┘  │  »\n",
       "q_2: ───┤ U1(pi/8) ├────■─────────────────■───────■─────────────────────┼──»\n",
       "     ┌──┴──────────┴─┐┌─┴─┐┌───────────┐┌─┴─┐┌──────────┐             ┌─┴─┐»\n",
       "q_3: ┤ U3(pi/2,0,pi) ├┤ X ├┤ U1(-pi/8) ├┤ X ├┤ U1(pi/8) ├─────────────┤ X ├»\n",
       "     └───────────────┘└───┘└───────────┘└───┘└──────────┘             └───┘»\n",
       "q_4: ──────────────────────────────────────────────────────────────────────»\n",
       "                                                                           »\n",
       "q_5: ──────────────────────────────────────────────────────────────────────»\n",
       "                                                                           »\n",
       "q_6: ──────────────────────────────────────────────────────────────────────»\n",
       "                                                                           »\n",
       "q_7: ──────────────────────────────────────────────────────────────────────»\n",
       "                                                                           »\n",
       "q_8: ──────────────────────────────────────────────────────────────────────»\n",
       "                                                                           »\n",
       "q_9: ──────────────────────────────────────────────────────────────────────»\n",
       "                                                                           »\n",
       "«                                                                      »\n",
       "«q_0: ─────────────────────────────────────────────────────────────────»\n",
       "«                          ┌───┐    ┌──────────┐                       »\n",
       "«q_1: ──────────────■──────┤ X ├────┤ U1(pi/8) ├──■─────────────────■──»\n",
       "«                   │      └─┬─┘    └──────────┘  │                 │  »\n",
       "«q_2: ──────────────┼────────■────────────────────┼─────────────────┼──»\n",
       "«     ┌──────────┐┌─┴─┐┌───────────┐            ┌─┴─┐┌───────────┐┌─┴─┐»\n",
       "«q_3: ┤ U1(pi/8) ├┤ X ├┤ U1(-pi/8) ├────────────┤ X ├┤ U1(-pi/8) ├┤ X ├»\n",
       "«     └──────────┘└───┘└───────────┘            └───┘└───────────┘└───┘»\n",
       "«q_4: ─────────────────────────────────────────────────────────────────»\n",
       "«                                                                      »\n",
       "«q_5: ─────────────────────────────────────────────────────────────────»\n",
       "«                                                                      »\n",
       "«q_6: ─────────────────────────────────────────────────────────────────»\n",
       "«                                                                      »\n",
       "«q_7: ─────────────────────────────────────────────────────────────────»\n",
       "«                                                                      »\n",
       "«q_8: ─────────────────────────────────────────────────────────────────»\n",
       "«                                                                      »\n",
       "«q_9: ─────────────────────────────────────────────────────────────────»\n",
       "«                                                                      »\n",
       "«        ┌───┐    ┌───────────┐                          ┌───┐    ┌──────────┐»\n",
       "«q_0: ───┤ X ├────┤ U1(-pi/8) ├──■────────────────■──────┤ X ├────┤ U1(pi/8) ├»\n",
       "«        └─┬─┘    └───────────┘  │                │      └─┬─┘    └──────────┘»\n",
       "«q_1: ─────■─────────────────────┼────────────────┼────────┼──────────────────»\n",
       "«                                │                │        │                  »\n",
       "«q_2: ───────────────────────────┼────────────────┼────────■──────────────────»\n",
       "«     ┌──────────┐             ┌─┴─┐┌──────────┐┌─┴─┐┌───────────┐            »\n",
       "«q_3: ┤ U1(pi/8) ├─────────────┤ X ├┤ U1(pi/8) ├┤ X ├┤ U1(-pi/8) ├────────────»\n",
       "«     └──────────┘             └───┘└──────────┘└───┘└───────────┘            »\n",
       "«q_4: ────────────────────────────────────────────────────────────────────────»\n",
       "«                                                                             »\n",
       "«q_5: ────────────────────────────────────────────────────────────────────────»\n",
       "«                                                                             »\n",
       "«q_6: ────────────────────────────────────────────────────────────────────────»\n",
       "«                                                                             »\n",
       "«q_7: ────────────────────────────────────────────────────────────────────────»\n",
       "«                                                                             »\n",
       "«q_8: ────────────────────────────────────────────────────────────────────────»\n",
       "«                                                                             »\n",
       "«q_9: ────────────────────────────────────────────────────────────────────────»\n",
       "«                                                                             »\n",
       "«                               ┌───┐    ┌───────────┐                      »\n",
       "«q_0: ──■─────────────────■─────┤ X ├────┤ U1(-pi/8) ├──■────────────────■──»\n",
       "«       │                 │     └─┬─┘    └───────────┘  │                │  »\n",
       "«q_1: ──┼─────────────────┼───────■─────────────────────┼────────────────┼──»\n",
       "«       │                 │                             │                │  »\n",
       "«q_2: ──┼─────────────────┼─────────────────────────────┼────────────────┼──»\n",
       "«     ┌─┴─┐┌───────────┐┌─┴─┐┌──────────┐             ┌─┴─┐┌──────────┐┌─┴─┐»\n",
       "«q_3: ┤ X ├┤ U1(-pi/8) ├┤ X ├┤ U1(pi/8) ├─────────────┤ X ├┤ U1(pi/8) ├┤ X ├»\n",
       "«     └───┘└───────────┘└───┘└──────────┘             └───┘└──────────┘└───┘»\n",
       "«q_4: ──────────────────────────────────────────────────────────────────────»\n",
       "«                                                                           »\n",
       "«q_5: ──────────────────────────────────────────────────────────────────────»\n",
       "«                                                                           »\n",
       "«q_6: ──────────────────────────────────────────────────────────────────────»\n",
       "«                                                                           »\n",
       "«q_7: ──────────────────────────────────────────────────────────────────────»\n",
       "«                                                                           »\n",
       "«q_8: ──────────────────────────────────────────────────────────────────────»\n",
       "«                                                                           »\n",
       "«q_9: ──────────────────────────────────────────────────────────────────────»\n",
       "«                                                                           »\n",
       "«         ┌───┐    ┌──────────┐                                   »\n",
       "«q_0: ────┤ X ├────┤ U1(pi/8) ├──■─────────────────■──────────────»\n",
       "«         └─┬─┘    └──────────┘  │                 │              »\n",
       "«q_1: ──────┼────────────────────┼─────────────────┼──────────────»\n",
       "«           │                    │                 │              »\n",
       "«q_2: ──────■────────────────────┼─────────────────┼──────────────»\n",
       "«     ┌───────────┐            ┌─┴─┐┌───────────┐┌─┴─┐┌──────────┐»\n",
       "«q_3: ┤ U1(-pi/8) ├────────────┤ X ├┤ U1(-pi/8) ├┤ X ├┤ U1(pi/8) ├»\n",
       "«     └───────────┘            └───┘└───────────┘└───┘└──────────┘»\n",
       "«q_4: ────────────────────────────────────────────────────────────»\n",
       "«                                                                 »\n",
       "«q_5: ────────────────────────────────────────────────────────────»\n",
       "«                                                                 »\n",
       "«q_6: ────────────────────────────────────────────────────────────»\n",
       "«                                                                 »\n",
       "«q_7: ────────────────────────────────────────────────────────────»\n",
       "«                                                                 »\n",
       "«q_8: ────────────────────────────────────────────────────────────»\n",
       "«                                                                 »\n",
       "«q_9: ────────────────────────────────────────────────────────────»\n",
       "«                                                                 »\n",
       "«                      \n",
       "«q_0: ─────────────────\n",
       "«                      \n",
       "«q_1: ─────────────────\n",
       "«                      \n",
       "«q_2: ─────────────────\n",
       "«     ┌───────────────┐\n",
       "«q_3: ┤ U3(pi/2,0,pi) ├\n",
       "«     └───────────────┘\n",
       "«q_4: ─────────────────\n",
       "«                      \n",
       "«q_5: ─────────────────\n",
       "«                      \n",
       "«q_6: ─────────────────\n",
       "«                      \n",
       "«q_7: ─────────────────\n",
       "«                      \n",
       "«q_8: ─────────────────\n",
       "«                      \n",
       "«q_9: ─────────────────\n",
       "«                      </pre>"
      ],
      "text/plain": [
       "                                                                           »\n",
       "q_0: ──────────────────────────────────────────────────────────────────────»\n",
       "                                                ┌───┐    ┌───────────┐     »\n",
       "q_1: ───────────────────────────────────────────┤ X ├────┤ U1(-pi/8) ├──■──»\n",
       "        ┌──────────┐                            └─┬─┘    └───────────┘  │  »\n",
       "q_2: ───┤ U1(pi/8) ├────■─────────────────■───────■─────────────────────┼──»\n",
       "     ┌──┴──────────┴─┐┌─┴─┐┌───────────┐┌─┴─┐┌──────────┐             ┌─┴─┐»\n",
       "q_3: ┤ U3(pi/2,0,pi) ├┤ X ├┤ U1(-pi/8) ├┤ X ├┤ U1(pi/8) ├─────────────┤ X ├»\n",
       "     └───────────────┘└───┘└───────────┘└───┘└──────────┘             └───┘»\n",
       "q_4: ──────────────────────────────────────────────────────────────────────»\n",
       "                                                                           »\n",
       "q_5: ──────────────────────────────────────────────────────────────────────»\n",
       "                                                                           »\n",
       "q_6: ──────────────────────────────────────────────────────────────────────»\n",
       "                                                                           »\n",
       "q_7: ──────────────────────────────────────────────────────────────────────»\n",
       "                                                                           »\n",
       "q_8: ──────────────────────────────────────────────────────────────────────»\n",
       "                                                                           »\n",
       "q_9: ──────────────────────────────────────────────────────────────────────»\n",
       "                                                                           »\n",
       "«                                                                      »\n",
       "«q_0: ─────────────────────────────────────────────────────────────────»\n",
       "«                          ┌───┐    ┌──────────┐                       »\n",
       "«q_1: ──────────────■──────┤ X ├────┤ U1(pi/8) ├──■─────────────────■──»\n",
       "«                   │      └─┬─┘    └──────────┘  │                 │  »\n",
       "«q_2: ──────────────┼────────■────────────────────┼─────────────────┼──»\n",
       "«     ┌──────────┐┌─┴─┐┌───────────┐            ┌─┴─┐┌───────────┐┌─┴─┐»\n",
       "«q_3: ┤ U1(pi/8) ├┤ X ├┤ U1(-pi/8) ├────────────┤ X ├┤ U1(-pi/8) ├┤ X ├»\n",
       "«     └──────────┘└───┘└───────────┘            └───┘└───────────┘└───┘»\n",
       "«q_4: ─────────────────────────────────────────────────────────────────»\n",
       "«                                                                      »\n",
       "«q_5: ─────────────────────────────────────────────────────────────────»\n",
       "«                                                                      »\n",
       "«q_6: ─────────────────────────────────────────────────────────────────»\n",
       "«                                                                      »\n",
       "«q_7: ─────────────────────────────────────────────────────────────────»\n",
       "«                                                                      »\n",
       "«q_8: ─────────────────────────────────────────────────────────────────»\n",
       "«                                                                      »\n",
       "«q_9: ─────────────────────────────────────────────────────────────────»\n",
       "«                                                                      »\n",
       "«        ┌───┐    ┌───────────┐                          ┌───┐    ┌──────────┐»\n",
       "«q_0: ───┤ X ├────┤ U1(-pi/8) ├──■────────────────■──────┤ X ├────┤ U1(pi/8) ├»\n",
       "«        └─┬─┘    └───────────┘  │                │      └─┬─┘    └──────────┘»\n",
       "«q_1: ─────■─────────────────────┼────────────────┼────────┼──────────────────»\n",
       "«                                │                │        │                  »\n",
       "«q_2: ───────────────────────────┼────────────────┼────────■──────────────────»\n",
       "«     ┌──────────┐             ┌─┴─┐┌──────────┐┌─┴─┐┌───────────┐            »\n",
       "«q_3: ┤ U1(pi/8) ├─────────────┤ X ├┤ U1(pi/8) ├┤ X ├┤ U1(-pi/8) ├────────────»\n",
       "«     └──────────┘             └───┘└──────────┘└───┘└───────────┘            »\n",
       "«q_4: ────────────────────────────────────────────────────────────────────────»\n",
       "«                                                                             »\n",
       "«q_5: ────────────────────────────────────────────────────────────────────────»\n",
       "«                                                                             »\n",
       "«q_6: ────────────────────────────────────────────────────────────────────────»\n",
       "«                                                                             »\n",
       "«q_7: ────────────────────────────────────────────────────────────────────────»\n",
       "«                                                                             »\n",
       "«q_8: ────────────────────────────────────────────────────────────────────────»\n",
       "«                                                                             »\n",
       "«q_9: ────────────────────────────────────────────────────────────────────────»\n",
       "«                                                                             »\n",
       "«                               ┌───┐    ┌───────────┐                      »\n",
       "«q_0: ──■─────────────────■─────┤ X ├────┤ U1(-pi/8) ├──■────────────────■──»\n",
       "«       │                 │     └─┬─┘    └───────────┘  │                │  »\n",
       "«q_1: ──┼─────────────────┼───────■─────────────────────┼────────────────┼──»\n",
       "«       │                 │                             │                │  »\n",
       "«q_2: ──┼─────────────────┼─────────────────────────────┼────────────────┼──»\n",
       "«     ┌─┴─┐┌───────────┐┌─┴─┐┌──────────┐             ┌─┴─┐┌──────────┐┌─┴─┐»\n",
       "«q_3: ┤ X ├┤ U1(-pi/8) ├┤ X ├┤ U1(pi/8) ├─────────────┤ X ├┤ U1(pi/8) ├┤ X ├»\n",
       "«     └───┘└───────────┘└───┘└──────────┘             └───┘└──────────┘└───┘»\n",
       "«q_4: ──────────────────────────────────────────────────────────────────────»\n",
       "«                                                                           »\n",
       "«q_5: ──────────────────────────────────────────────────────────────────────»\n",
       "«                                                                           »\n",
       "«q_6: ──────────────────────────────────────────────────────────────────────»\n",
       "«                                                                           »\n",
       "«q_7: ──────────────────────────────────────────────────────────────────────»\n",
       "«                                                                           »\n",
       "«q_8: ──────────────────────────────────────────────────────────────────────»\n",
       "«                                                                           »\n",
       "«q_9: ──────────────────────────────────────────────────────────────────────»\n",
       "«                                                                           »\n",
       "«         ┌───┐    ┌──────────┐                                   »\n",
       "«q_0: ────┤ X ├────┤ U1(pi/8) ├──■─────────────────■──────────────»\n",
       "«         └─┬─┘    └──────────┘  │                 │              »\n",
       "«q_1: ──────┼────────────────────┼─────────────────┼──────────────»\n",
       "«           │                    │                 │              »\n",
       "«q_2: ──────■────────────────────┼─────────────────┼──────────────»\n",
       "«     ┌───────────┐            ┌─┴─┐┌───────────┐┌─┴─┐┌──────────┐»\n",
       "«q_3: ┤ U1(-pi/8) ├────────────┤ X ├┤ U1(-pi/8) ├┤ X ├┤ U1(pi/8) ├»\n",
       "«     └───────────┘            └───┘└───────────┘└───┘└──────────┘»\n",
       "«q_4: ────────────────────────────────────────────────────────────»\n",
       "«                                                                 »\n",
       "«q_5: ────────────────────────────────────────────────────────────»\n",
       "«                                                                 »\n",
       "«q_6: ────────────────────────────────────────────────────────────»\n",
       "«                                                                 »\n",
       "«q_7: ────────────────────────────────────────────────────────────»\n",
       "«                                                                 »\n",
       "«q_8: ────────────────────────────────────────────────────────────»\n",
       "«                                                                 »\n",
       "«q_9: ────────────────────────────────────────────────────────────»\n",
       "«                                                                 »\n",
       "«                      \n",
       "«q_0: ─────────────────\n",
       "«                      \n",
       "«q_1: ─────────────────\n",
       "«                      \n",
       "«q_2: ─────────────────\n",
       "«     ┌───────────────┐\n",
       "«q_3: ┤ U3(pi/2,0,pi) ├\n",
       "«     └───────────────┘\n",
       "«q_4: ─────────────────\n",
       "«                      \n",
       "«q_5: ─────────────────\n",
       "«                      \n",
       "«q_6: ─────────────────\n",
       "«                      \n",
       "«q_7: ─────────────────\n",
       "«                      \n",
       "«q_8: ─────────────────\n",
       "«                      \n",
       "«q_9: ─────────────────\n",
       "«                      "
      ]
     },
     "execution_count": 11,
     "metadata": {},
     "output_type": "execute_result"
    }
   ],
   "source": [
    "qc.decompose().decompose().decompose().draw()"
   ]
  },
  {
   "cell_type": "code",
   "execution_count": 29,
   "metadata": {},
   "outputs": [
    {
     "data": {
      "text/html": [
       "<pre style=\"word-wrap: normal;white-space: pre;background: #fff0;line-height: 1.1;font-family: &quot;Courier New&quot;,Courier,monospace\">                    \n",
       "q_0: ──────■────────\n",
       "           │        \n",
       "q_1: ──────■────────\n",
       "           │        \n",
       "q_2: ──────■────────\n",
       "           │        \n",
       "q_3: ──────■────────\n",
       "           │        \n",
       "q_4: ──────■────────\n",
       "           │        \n",
       "q_5: ──────■────────\n",
       "           │        \n",
       "q_6: ──────■────────\n",
       "           │        \n",
       "q_7: ──────■────────\n",
       "           │        \n",
       "q_8: ──────■────────\n",
       "     ┌───┐ │pi ┌───┐\n",
       "q_9: ┤ H ├─■───┤ H ├\n",
       "     └───┘     └───┘</pre>"
      ],
      "text/plain": [
       "                    \n",
       "q_0: ──────■────────\n",
       "           │        \n",
       "q_1: ──────■────────\n",
       "           │        \n",
       "q_2: ──────■────────\n",
       "           │        \n",
       "q_3: ──────■────────\n",
       "           │        \n",
       "q_4: ──────■────────\n",
       "           │        \n",
       "q_5: ──────■────────\n",
       "           │        \n",
       "q_6: ──────■────────\n",
       "           │        \n",
       "q_7: ──────■────────\n",
       "           │        \n",
       "q_8: ──────■────────\n",
       "     ┌───┐ │pi ┌───┐\n",
       "q_9: ┤ H ├─■───┤ H ├\n",
       "     └───┘     └───┘"
      ]
     },
     "execution_count": 29,
     "metadata": {},
     "output_type": "execute_result"
    }
   ],
   "source": [
    "qc.decompose().draw()"
   ]
  },
  {
   "cell_type": "code",
   "execution_count": 34,
   "metadata": {},
   "outputs": [
    {
     "data": {
      "text/plain": [
       "OrderedDict([('u1', 1533), ('cx', 1532), ('u3', 2)])"
      ]
     },
     "execution_count": 34,
     "metadata": {},
     "output_type": "execute_result"
    }
   ],
   "source": [
    "qc.decompose().decompose().decompose().count_ops()"
   ]
  },
  {
   "cell_type": "code",
   "execution_count": 43,
   "metadata": {},
   "outputs": [
    {
     "data": {
      "text/plain": [
       "OrderedDict([('u3', 1535), ('cx', 1532)])"
      ]
     },
     "execution_count": 43,
     "metadata": {},
     "output_type": "execute_result"
    }
   ],
   "source": [
    "qc.decompose().decompose().decompose().decompose().count_ops()"
   ]
  },
  {
   "cell_type": "code",
   "execution_count": 51,
   "metadata": {},
   "outputs": [
    {
     "data": {
      "text/plain": [
       "OrderedDict([('u3', 69), ('cx', 36)])"
      ]
     },
     "execution_count": 51,
     "metadata": {},
     "output_type": "execute_result"
    }
   ],
   "source": [
    "qc = QuantumCircuit(20)\n",
    "qc.mcx([0, 1, 2, 3, 4, 5, 6], 7, ancilla_qubits=[8, 9, 10, 11, 12], mode='v-chain')\n",
    "qc.decompose().decompose().decompose().decompose().count_ops()"
   ]
  },
  {
   "cell_type": "code",
   "execution_count": 52,
   "metadata": {},
   "outputs": [
    {
     "data": {
      "text/plain": [
       "OrderedDict([('u3', 118), ('cx', 62)])"
      ]
     },
     "execution_count": 52,
     "metadata": {},
     "output_type": "execute_result"
    }
   ],
   "source": [
    "qc = QuantumCircuit(20)\n",
    "qc.mcx([0, 1, 2, 3, 4, 5, 6], 7, ancilla_qubits=[8, 9, 10, 11, 12], mode='v-chain-dirty')\n",
    "qc.decompose().decompose().decompose().decompose().count_ops()"
   ]
  },
  {
   "cell_type": "code",
   "execution_count": 64,
   "metadata": {},
   "outputs": [
    {
     "data": {
      "text/plain": [
       "OrderedDict([('u3', 300), ('cx', 168)])"
      ]
     },
     "execution_count": 64,
     "metadata": {},
     "output_type": "execute_result"
    }
   ],
   "source": [
    "qc = QuantumCircuit(20)\n",
    "qc.mcx([0, 1, 2, 3, 4, 5], 6, ancilla_qubits=[7], mode='recursion')\n",
    "qc.decompose().decompose().decompose().decompose().decompose().count_ops()"
   ]
  },
  {
   "cell_type": "code",
   "execution_count": 62,
   "metadata": {},
   "outputs": [
    {
     "data": {
      "text/plain": [
       "OrderedDict([('u3', 460), ('cx', 256)])"
      ]
     },
     "execution_count": 62,
     "metadata": {},
     "output_type": "execute_result"
    }
   ],
   "source": [
    "qc = QuantumCircuit(20)\n",
    "qc.mcx([0, 1, 2, 3, 4, 5, 6], 7, ancilla_qubits=[8], mode='recursion')\n",
    "qc.decompose().decompose().decompose().decompose().decompose().count_ops()"
   ]
  },
  {
   "cell_type": "code",
   "execution_count": 63,
   "metadata": {},
   "outputs": [
    {
     "data": {
      "text/plain": [
       "OrderedDict([('u3', 510), ('cx', 288)])"
      ]
     },
     "execution_count": 63,
     "metadata": {},
     "output_type": "execute_result"
    }
   ],
   "source": [
    "qc = QuantumCircuit(20)\n",
    "qc.mcx([0, 1, 2, 3, 4, 5, 6, 7], 8, ancilla_qubits=[9], mode='recursion')\n",
    "qc.decompose().decompose().decompose().decompose().decompose().count_ops()"
   ]
  },
  {
   "cell_type": "code",
   "execution_count": 55,
   "metadata": {},
   "outputs": [
    {
     "data": {
      "text/plain": [
       "OrderedDict([('u3', 35), ('cx', 20)])"
      ]
     },
     "execution_count": 55,
     "metadata": {},
     "output_type": "execute_result"
    }
   ],
   "source": [
    "qc = QuantumCircuit(20)\n",
    "qc.mcx([0, 1, 2], 3, ancilla_qubits=[4], mode='recursion')\n",
    "qc.decompose().decompose().decompose().decompose().decompose().count_ops()"
   ]
  },
  {
   "cell_type": "code",
   "execution_count": 56,
   "metadata": {},
   "outputs": [
    {
     "data": {
      "text/plain": [
       "OrderedDict([('u3', 21), ('cx', 12)])"
      ]
     },
     "execution_count": 56,
     "metadata": {},
     "output_type": "execute_result"
    }
   ],
   "source": [
    "qc = QuantumCircuit(20)\n",
    "qc.mcx([0, 1, 2], 3, ancilla_qubits=[4, 5], mode='v-chain')\n",
    "qc.decompose().decompose().decompose().decompose().decompose().count_ops()"
   ]
  },
  {
   "cell_type": "code",
   "execution_count": 57,
   "metadata": {},
   "outputs": [
    {
     "data": {
      "text/plain": [
       "OrderedDict([('u3', 23), ('cx', 20)])"
      ]
     },
     "execution_count": 57,
     "metadata": {},
     "output_type": "execute_result"
    }
   ],
   "source": [
    "qc = QuantumCircuit(20)\n",
    "qc.mcx([0, 1, 2], 3)\n",
    "qc.decompose().decompose().decompose().decompose().decompose().count_ops()"
   ]
  },
  {
   "cell_type": "code",
   "execution_count": 60,
   "metadata": {},
   "outputs": [
    {
     "data": {
      "text/plain": [
       "OrderedDict([('cx', 12), ('u1', 8), ('u2', 4), ('t', 4), ('tdg', 3), ('h', 2)])"
      ]
     },
     "execution_count": 60,
     "metadata": {},
     "output_type": "execute_result"
    }
   ],
   "source": []
  },
  {
   "cell_type": "code",
   "execution_count": 88,
   "metadata": {},
   "outputs": [
    {
     "data": {
      "text/html": [
       "<pre style=\"word-wrap: normal;white-space: pre;background: #fff0;line-height: 1.1;font-family: &quot;Courier New&quot;,Courier,monospace\">                                                                     »\n",
       "q_0: ────────────────────────────────────────────■───────────────────»\n",
       "                                                 │                   »\n",
       "q_1: ──────────────────────────■─────────────────┼────────────────■──»\n",
       "                               │                 │                │  »\n",
       "q_2: ──────────────────────────┼─────────────────┼────────────────┼──»\n",
       "                               │                 │                │  »\n",
       "q_3: ──────────────────────────┼─────────────────┼────────────────┼──»\n",
       "        ┌───┐                  │                 │                │  »\n",
       "q_4: ───┤ H ├──────────────────┼─────────────────┼────────────────┼──»\n",
       "     ┌──┴───┴───┐┌──────────┐┌─┴─┐┌───────────┐┌─┴─┐┌──────────┐┌─┴─┐»\n",
       "q_5: ┤ U2(0,pi) ├┤ U1(pi/4) ├┤ X ├┤ U1(-pi/4) ├┤ X ├┤ U1(pi/4) ├┤ X ├»\n",
       "     ├──────────┤├──────────┤└───┘└───────────┘└───┘└──────────┘└───┘»\n",
       "q_6: ┤ U2(0,pi) ├┤ U1(pi/4) ├────────────────────────────────────────»\n",
       "     └──────────┘└──────────┘                                        »\n",
       "«                                                                      »\n",
       "«q_0: ─────────────────────────────────────────────────────────────────»\n",
       "«                                                                      »\n",
       "«q_1: ─────────────────────────────────────────────────────────────────»\n",
       "«                                                                      »\n",
       "«q_2: ─────────────────────────────────────────────■───────────────────»\n",
       "«                                                  │                   »\n",
       "«q_3: ─────────────────────────────────────────────┼───────────────────»\n",
       "«                                                  │                   »\n",
       "«q_4: ─────────────────────────────────────────────┼───────────────────»\n",
       "«     ┌───────────┐┌──────────┐                    │                   »\n",
       "«q_5: ┤ U1(-pi/4) ├┤ U2(0,pi) ├──■─────────────────┼────────────────■──»\n",
       "«     └───────────┘└──────────┘┌─┴─┐┌───────────┐┌─┴─┐┌──────────┐┌─┴─┐»\n",
       "«q_6: ─────────────────────────┤ X ├┤ U1(-pi/4) ├┤ X ├┤ U1(pi/4) ├┤ X ├»\n",
       "«                              └───┘└───────────┘└───┘└──────────┘└───┘»\n",
       "«                                                                          »\n",
       "«q_0: ─────────────────────────────────────────────────────────────────────»\n",
       "«                                                                          »\n",
       "«q_1: ─────────────────────────────────────────────────────────────────────»\n",
       "«                                                                          »\n",
       "«q_2: ─────────────────────────────────────────────────────────────────────»\n",
       "«                                                                          »\n",
       "«q_3: ───────────────────────────────────────■─────────────────────■───────»\n",
       "«                              ┌───┐┌─────┐┌─┴─┐┌───┐┌───┐┌─────┐┌─┴─┐┌───┐»\n",
       "«q_4: ─────────────────────────┤ X ├┤ TDG ├┤ X ├┤ T ├┤ X ├┤ TDG ├┤ X ├┤ T ├»\n",
       "«                              └─┬─┘└─────┘└───┘└───┘└─┬─┘└─────┘└───┘└───┘»\n",
       "«q_5: ───────────────────────────┼─────────────────────┼───────────────────»\n",
       "«     ┌───────────┐┌──────────┐  │                     │   ┌───┐           »\n",
       "«q_6: ┤ U1(-pi/4) ├┤ U2(0,pi) ├──■─────────────────────■───┤ T ├───────────»\n",
       "«     └───────────┘└──────────┘                            └───┘           »\n",
       "«                                                                     »\n",
       "«q_0: ────────────────────────────────────────────────────────────────»\n",
       "«                                                                     »\n",
       "«q_1: ────────────────────────────────────────────────────────────────»\n",
       "«                                                                     »\n",
       "«q_2: ─────────────────────────────────────────────────────────────■──»\n",
       "«           ┌───┐                                                  │  »\n",
       "«q_3: ──■───┤ T ├───■──────────────────────────────────────────────┼──»\n",
       "«       │   ├───┤   │                                              │  »\n",
       "«q_4: ──┼───┤ H ├───┼──────────────────────────────────────────────┼──»\n",
       "«       │   └───┘   │                                              │  »\n",
       "«q_5: ──┼───────────┼────────────────────────────■─────────────────┼──»\n",
       "«     ┌─┴─┐┌─────┐┌─┴─┐┌──────────┐┌──────────┐┌─┴─┐┌───────────┐┌─┴─┐»\n",
       "«q_6: ┤ X ├┤ TDG ├┤ X ├┤ U2(0,pi) ├┤ U1(pi/4) ├┤ X ├┤ U1(-pi/4) ├┤ X ├»\n",
       "«     └───┘└─────┘└───┘└──────────┘└──────────┘└───┘└───────────┘└───┘»\n",
       "«                                                                      »\n",
       "«q_0: ──────────────────────────────────────────────────────────────■──»\n",
       "«                                                                   │  »\n",
       "«q_1: ────────────────────────────────────────────■─────────────────┼──»\n",
       "«                                                 │                 │  »\n",
       "«q_2: ────────────────────────────────────────────┼─────────────────┼──»\n",
       "«                                                 │                 │  »\n",
       "«q_3: ────────────────────────────────────────────┼─────────────────┼──»\n",
       "«                                                 │                 │  »\n",
       "«q_4: ────────────────────────────────────────────┼─────────────────┼──»\n",
       "«                       ┌──────────┐┌──────────┐┌─┴─┐┌───────────┐┌─┴─┐»\n",
       "«q_5: ──────────────■───┤ U2(0,pi) ├┤ U1(pi/4) ├┤ X ├┤ U1(-pi/4) ├┤ X ├»\n",
       "«     ┌──────────┐┌─┴─┐┌┴──────────┤├──────────┤└───┘└───────────┘└───┘»\n",
       "«q_6: ┤ U1(pi/4) ├┤ X ├┤ U1(-pi/4) ├┤ U2(0,pi) ├───────────────────────»\n",
       "«     └──────────┘└───┘└───────────┘└──────────┘                       »\n",
       "«                                               \n",
       "«q_0: ──────────────────────────────────────────\n",
       "«                                               \n",
       "«q_1: ──────────────■───────────────────────────\n",
       "«                   │                           \n",
       "«q_2: ──────────────┼───────────────────────────\n",
       "«                   │                           \n",
       "«q_3: ──────────────┼───────────────────────────\n",
       "«                   │                           \n",
       "«q_4: ──────────────┼───────────────────────────\n",
       "«     ┌──────────┐┌─┴─┐┌───────────┐┌──────────┐\n",
       "«q_5: ┤ U1(pi/4) ├┤ X ├┤ U1(-pi/4) ├┤ U2(0,pi) ├\n",
       "«     └──────────┘└───┘└───────────┘└──────────┘\n",
       "«q_6: ──────────────────────────────────────────\n",
       "«                                               </pre>"
      ],
      "text/plain": [
       "                                                                     »\n",
       "q_0: ────────────────────────────────────────────■───────────────────»\n",
       "                                                 │                   »\n",
       "q_1: ──────────────────────────■─────────────────┼────────────────■──»\n",
       "                               │                 │                │  »\n",
       "q_2: ──────────────────────────┼─────────────────┼────────────────┼──»\n",
       "                               │                 │                │  »\n",
       "q_3: ──────────────────────────┼─────────────────┼────────────────┼──»\n",
       "        ┌───┐                  │                 │                │  »\n",
       "q_4: ───┤ H ├──────────────────┼─────────────────┼────────────────┼──»\n",
       "     ┌──┴───┴───┐┌──────────┐┌─┴─┐┌───────────┐┌─┴─┐┌──────────┐┌─┴─┐»\n",
       "q_5: ┤ U2(0,pi) ├┤ U1(pi/4) ├┤ X ├┤ U1(-pi/4) ├┤ X ├┤ U1(pi/4) ├┤ X ├»\n",
       "     ├──────────┤├──────────┤└───┘└───────────┘└───┘└──────────┘└───┘»\n",
       "q_6: ┤ U2(0,pi) ├┤ U1(pi/4) ├────────────────────────────────────────»\n",
       "     └──────────┘└──────────┘                                        »\n",
       "«                                                                      »\n",
       "«q_0: ─────────────────────────────────────────────────────────────────»\n",
       "«                                                                      »\n",
       "«q_1: ─────────────────────────────────────────────────────────────────»\n",
       "«                                                                      »\n",
       "«q_2: ─────────────────────────────────────────────■───────────────────»\n",
       "«                                                  │                   »\n",
       "«q_3: ─────────────────────────────────────────────┼───────────────────»\n",
       "«                                                  │                   »\n",
       "«q_4: ─────────────────────────────────────────────┼───────────────────»\n",
       "«     ┌───────────┐┌──────────┐                    │                   »\n",
       "«q_5: ┤ U1(-pi/4) ├┤ U2(0,pi) ├──■─────────────────┼────────────────■──»\n",
       "«     └───────────┘└──────────┘┌─┴─┐┌───────────┐┌─┴─┐┌──────────┐┌─┴─┐»\n",
       "«q_6: ─────────────────────────┤ X ├┤ U1(-pi/4) ├┤ X ├┤ U1(pi/4) ├┤ X ├»\n",
       "«                              └───┘└───────────┘└───┘└──────────┘└───┘»\n",
       "«                                                                          »\n",
       "«q_0: ─────────────────────────────────────────────────────────────────────»\n",
       "«                                                                          »\n",
       "«q_1: ─────────────────────────────────────────────────────────────────────»\n",
       "«                                                                          »\n",
       "«q_2: ─────────────────────────────────────────────────────────────────────»\n",
       "«                                                                          »\n",
       "«q_3: ───────────────────────────────────────■─────────────────────■───────»\n",
       "«                              ┌───┐┌─────┐┌─┴─┐┌───┐┌───┐┌─────┐┌─┴─┐┌───┐»\n",
       "«q_4: ─────────────────────────┤ X ├┤ TDG ├┤ X ├┤ T ├┤ X ├┤ TDG ├┤ X ├┤ T ├»\n",
       "«                              └─┬─┘└─────┘└───┘└───┘└─┬─┘└─────┘└───┘└───┘»\n",
       "«q_5: ───────────────────────────┼─────────────────────┼───────────────────»\n",
       "«     ┌───────────┐┌──────────┐  │                     │   ┌───┐           »\n",
       "«q_6: ┤ U1(-pi/4) ├┤ U2(0,pi) ├──■─────────────────────■───┤ T ├───────────»\n",
       "«     └───────────┘└──────────┘                            └───┘           »\n",
       "«                                                                     »\n",
       "«q_0: ────────────────────────────────────────────────────────────────»\n",
       "«                                                                     »\n",
       "«q_1: ────────────────────────────────────────────────────────────────»\n",
       "«                                                                     »\n",
       "«q_2: ─────────────────────────────────────────────────────────────■──»\n",
       "«           ┌───┐                                                  │  »\n",
       "«q_3: ──■───┤ T ├───■──────────────────────────────────────────────┼──»\n",
       "«       │   ├───┤   │                                              │  »\n",
       "«q_4: ──┼───┤ H ├───┼──────────────────────────────────────────────┼──»\n",
       "«       │   └───┘   │                                              │  »\n",
       "«q_5: ──┼───────────┼────────────────────────────■─────────────────┼──»\n",
       "«     ┌─┴─┐┌─────┐┌─┴─┐┌──────────┐┌──────────┐┌─┴─┐┌───────────┐┌─┴─┐»\n",
       "«q_6: ┤ X ├┤ TDG ├┤ X ├┤ U2(0,pi) ├┤ U1(pi/4) ├┤ X ├┤ U1(-pi/4) ├┤ X ├»\n",
       "«     └───┘└─────┘└───┘└──────────┘└──────────┘└───┘└───────────┘└───┘»\n",
       "«                                                                      »\n",
       "«q_0: ──────────────────────────────────────────────────────────────■──»\n",
       "«                                                                   │  »\n",
       "«q_1: ────────────────────────────────────────────■─────────────────┼──»\n",
       "«                                                 │                 │  »\n",
       "«q_2: ────────────────────────────────────────────┼─────────────────┼──»\n",
       "«                                                 │                 │  »\n",
       "«q_3: ────────────────────────────────────────────┼─────────────────┼──»\n",
       "«                                                 │                 │  »\n",
       "«q_4: ────────────────────────────────────────────┼─────────────────┼──»\n",
       "«                       ┌──────────┐┌──────────┐┌─┴─┐┌───────────┐┌─┴─┐»\n",
       "«q_5: ──────────────■───┤ U2(0,pi) ├┤ U1(pi/4) ├┤ X ├┤ U1(-pi/4) ├┤ X ├»\n",
       "«     ┌──────────┐┌─┴─┐┌┴──────────┤├──────────┤└───┘└───────────┘└───┘»\n",
       "«q_6: ┤ U1(pi/4) ├┤ X ├┤ U1(-pi/4) ├┤ U2(0,pi) ├───────────────────────»\n",
       "«     └──────────┘└───┘└───────────┘└──────────┘                       »\n",
       "«                                               \n",
       "«q_0: ──────────────────────────────────────────\n",
       "«                                               \n",
       "«q_1: ──────────────■───────────────────────────\n",
       "«                   │                           \n",
       "«q_2: ──────────────┼───────────────────────────\n",
       "«                   │                           \n",
       "«q_3: ──────────────┼───────────────────────────\n",
       "«                   │                           \n",
       "«q_4: ──────────────┼───────────────────────────\n",
       "«     ┌──────────┐┌─┴─┐┌───────────┐┌──────────┐\n",
       "«q_5: ┤ U1(pi/4) ├┤ X ├┤ U1(-pi/4) ├┤ U2(0,pi) ├\n",
       "«     └──────────┘└───┘└───────────┘└──────────┘\n",
       "«q_6: ──────────────────────────────────────────\n",
       "«                                               "
      ]
     },
     "execution_count": 88,
     "metadata": {},
     "output_type": "execute_result"
    }
   ],
   "source": [
    "qc = QuantumCircuit(7)\n",
    "qc.mcx([0, 1, 2, 3], 4, ancilla_qubits=[5, 6], mode='v-chain')\n",
    "qc.decompose().decompose().draw()"
   ]
  },
  {
   "cell_type": "code",
   "execution_count": 68,
   "metadata": {},
   "outputs": [
    {
     "data": {
      "text/plain": [
       "OrderedDict([('rccx', 4), ('ccx', 1)])"
      ]
     },
     "execution_count": 68,
     "metadata": {},
     "output_type": "execute_result"
    }
   ],
   "source": [
    "qc = QuantumCircuit(20)\n",
    "qc.mcx([0, 1, 2, 3], 4, ancilla_qubits=[5, 6], mode='v-chain')\n",
    "qc.decompose().count_ops()"
   ]
  },
  {
   "cell_type": "code",
   "execution_count": 85,
   "metadata": {},
   "outputs": [
    {
     "data": {
      "text/plain": [
       "OrderedDict([('rccx', 6), ('ccx', 1)])"
      ]
     },
     "execution_count": 85,
     "metadata": {},
     "output_type": "execute_result"
    }
   ],
   "source": [
    "qc = QuantumCircuit(20)\n",
    "qc.mcx([0, 1, 2, 3, 4], 5, ancilla_qubits=[6, 7, 8], mode='v-chain')\n",
    "qc.decompose().count_ops()"
   ]
  },
  {
   "cell_type": "code",
   "execution_count": 83,
   "metadata": {},
   "outputs": [
    {
     "data": {
      "text/html": [
       "<pre style=\"word-wrap: normal;white-space: pre;background: #fff0;line-height: 1.1;font-family: &quot;Courier New&quot;,Courier,monospace\">      ┌───────┐                                                           »\n",
       " q_0: ┤0      ├───────────────────────────────────────────────────────────»\n",
       "      │       │                                                           »\n",
       " q_1: ┤1      ├───────────────────────────────────────────────────────────»\n",
       "      │       │┌───────┐                                                  »\n",
       " q_2: ┤       ├┤0      ├──────────────────────────────────────────────────»\n",
       "      │       ││       │┌───────┐                                         »\n",
       " q_3: ┤       ├┤       ├┤0      ├─────────────────────────────────────────»\n",
       "      │       ││       ││       │┌───────┐                                »\n",
       " q_4: ┤       ├┤       ├┤       ├┤0      ├────────────────────────────────»\n",
       "      │       ││       ││       ││       │┌───────┐                       »\n",
       " q_5: ┤  RCCX ├┤       ├┤       ├┤       ├┤0      ├───────────────────────»\n",
       "      │       ││       ││       ││       ││       │┌───────┐              »\n",
       " q_6: ┤       ├┤       ├┤       ├┤       ├┤       ├┤0      ├──────────────»\n",
       "      │       ││  RCCX ││       ││       ││       ││       │┌───────┐     »\n",
       " q_7: ┤       ├┤       ├┤       ├┤       ├┤       ├┤       ├┤0      ├─────»\n",
       "      │       ││       ││  RCCX ││       ││       ││       ││       │     »\n",
       " q_8: ┤       ├┤       ├┤       ├┤       ├┤       ├┤       ├┤       ├──■──»\n",
       "      │       ││       ││       ││  RCCX ││       ││       ││       │┌─┴─┐»\n",
       " q_9: ┤       ├┤       ├┤       ├┤       ├┤       ├┤       ├┤       ├┤ X ├»\n",
       "      │       ││       ││       ││       ││  RCCX ││       ││       │└─┬─┘»\n",
       "q_10: ┤2      ├┤1      ├┤       ├┤       ├┤       ├┤       ├┤       ├──┼──»\n",
       "      └───────┘│       ││       ││       ││       ││  RCCX ││       │  │  »\n",
       "q_11: ─────────┤2      ├┤1      ├┤       ├┤       ├┤       ├┤       ├──┼──»\n",
       "               └───────┘│       ││       ││       ││       ││  RCCX │  │  »\n",
       "q_12: ──────────────────┤2      ├┤1      ├┤       ├┤       ├┤       ├──┼──»\n",
       "                        └───────┘│       ││       ││       ││       │  │  »\n",
       "q_13: ───────────────────────────┤2      ├┤1      ├┤       ├┤       ├──┼──»\n",
       "                                 └───────┘│       ││       ││       │  │  »\n",
       "q_14: ────────────────────────────────────┤2      ├┤1      ├┤       ├──┼──»\n",
       "                                          └───────┘│       ││       │  │  »\n",
       "q_15: ─────────────────────────────────────────────┤2      ├┤1      ├──┼──»\n",
       "                                                   └───────┘│       │  │  »\n",
       "q_16: ──────────────────────────────────────────────────────┤2      ├──■──»\n",
       "                                                            └───────┘     »\n",
       "q_17: ────────────────────────────────────────────────────────────────────»\n",
       "                                                                          »\n",
       "q_18: ────────────────────────────────────────────────────────────────────»\n",
       "                                                                          »\n",
       "q_19: ────────────────────────────────────────────────────────────────────»\n",
       "                                                                          »\n",
       "«                                                            ┌───────┐\n",
       "« q_0: ──────────────────────────────────────────────────────┤0      ├\n",
       "«                                                            │       │\n",
       "« q_1: ──────────────────────────────────────────────────────┤1      ├\n",
       "«                                                   ┌───────┐│       │\n",
       "« q_2: ─────────────────────────────────────────────┤0      ├┤       ├\n",
       "«                                          ┌───────┐│       ││       │\n",
       "« q_3: ────────────────────────────────────┤0      ├┤       ├┤       ├\n",
       "«                                 ┌───────┐│       ││       ││       │\n",
       "« q_4: ───────────────────────────┤0      ├┤       ├┤       ├┤       ├\n",
       "«                        ┌───────┐│       ││       ││       ││       │\n",
       "« q_5: ──────────────────┤0      ├┤       ├┤       ├┤       ├┤  RCCX ├\n",
       "«               ┌───────┐│       ││       ││       ││       ││       │\n",
       "« q_6: ─────────┤0      ├┤       ├┤       ├┤       ├┤       ├┤       ├\n",
       "«      ┌───────┐│       ││       ││       ││       ││  RCCX ││       │\n",
       "« q_7: ┤0      ├┤       ├┤       ├┤       ├┤       ├┤       ├┤       ├\n",
       "«      │       ││       ││       ││       ││  RCCX ││       ││       │\n",
       "« q_8: ┤       ├┤       ├┤       ├┤       ├┤       ├┤       ├┤       ├\n",
       "«      │       ││       ││       ││  RCCX ││       ││       ││       │\n",
       "« q_9: ┤       ├┤       ├┤       ├┤       ├┤       ├┤       ├┤       ├\n",
       "«      │       ││       ││  RCCX ││       ││       ││       ││       │\n",
       "«q_10: ┤       ├┤       ├┤       ├┤       ├┤       ├┤1      ├┤2      ├\n",
       "«      │       ││  RCCX ││       ││       ││       ││       │└───────┘\n",
       "«q_11: ┤       ├┤       ├┤       ├┤       ├┤1      ├┤2      ├─────────\n",
       "«      │  RCCX ││       ││       ││       ││       │└───────┘         \n",
       "«q_12: ┤       ├┤       ├┤       ├┤1      ├┤2      ├──────────────────\n",
       "«      │       ││       ││       ││       │└───────┘                  \n",
       "«q_13: ┤       ├┤       ├┤1      ├┤2      ├───────────────────────────\n",
       "«      │       ││       ││       │└───────┘                           \n",
       "«q_14: ┤       ├┤1      ├┤2      ├────────────────────────────────────\n",
       "«      │       ││       │└───────┘                                    \n",
       "«q_15: ┤1      ├┤2      ├─────────────────────────────────────────────\n",
       "«      │       │└───────┘                                             \n",
       "«q_16: ┤2      ├──────────────────────────────────────────────────────\n",
       "«      └───────┘                                                      \n",
       "«q_17: ───────────────────────────────────────────────────────────────\n",
       "«                                                                     \n",
       "«q_18: ───────────────────────────────────────────────────────────────\n",
       "«                                                                     \n",
       "«q_19: ───────────────────────────────────────────────────────────────\n",
       "«                                                                     </pre>"
      ],
      "text/plain": [
       "      ┌───────┐                                                           »\n",
       " q_0: ┤0      ├───────────────────────────────────────────────────────────»\n",
       "      │       │                                                           »\n",
       " q_1: ┤1      ├───────────────────────────────────────────────────────────»\n",
       "      │       │┌───────┐                                                  »\n",
       " q_2: ┤       ├┤0      ├──────────────────────────────────────────────────»\n",
       "      │       ││       │┌───────┐                                         »\n",
       " q_3: ┤       ├┤       ├┤0      ├─────────────────────────────────────────»\n",
       "      │       ││       ││       │┌───────┐                                »\n",
       " q_4: ┤       ├┤       ├┤       ├┤0      ├────────────────────────────────»\n",
       "      │       ││       ││       ││       │┌───────┐                       »\n",
       " q_5: ┤  RCCX ├┤       ├┤       ├┤       ├┤0      ├───────────────────────»\n",
       "      │       ││       ││       ││       ││       │┌───────┐              »\n",
       " q_6: ┤       ├┤       ├┤       ├┤       ├┤       ├┤0      ├──────────────»\n",
       "      │       ││  RCCX ││       ││       ││       ││       │┌───────┐     »\n",
       " q_7: ┤       ├┤       ├┤       ├┤       ├┤       ├┤       ├┤0      ├─────»\n",
       "      │       ││       ││  RCCX ││       ││       ││       ││       │     »\n",
       " q_8: ┤       ├┤       ├┤       ├┤       ├┤       ├┤       ├┤       ├──■──»\n",
       "      │       ││       ││       ││  RCCX ││       ││       ││       │┌─┴─┐»\n",
       " q_9: ┤       ├┤       ├┤       ├┤       ├┤       ├┤       ├┤       ├┤ X ├»\n",
       "      │       ││       ││       ││       ││  RCCX ││       ││       │└─┬─┘»\n",
       "q_10: ┤2      ├┤1      ├┤       ├┤       ├┤       ├┤       ├┤       ├──┼──»\n",
       "      └───────┘│       ││       ││       ││       ││  RCCX ││       │  │  »\n",
       "q_11: ─────────┤2      ├┤1      ├┤       ├┤       ├┤       ├┤       ├──┼──»\n",
       "               └───────┘│       ││       ││       ││       ││  RCCX │  │  »\n",
       "q_12: ──────────────────┤2      ├┤1      ├┤       ├┤       ├┤       ├──┼──»\n",
       "                        └───────┘│       ││       ││       ││       │  │  »\n",
       "q_13: ───────────────────────────┤2      ├┤1      ├┤       ├┤       ├──┼──»\n",
       "                                 └───────┘│       ││       ││       │  │  »\n",
       "q_14: ────────────────────────────────────┤2      ├┤1      ├┤       ├──┼──»\n",
       "                                          └───────┘│       ││       │  │  »\n",
       "q_15: ─────────────────────────────────────────────┤2      ├┤1      ├──┼──»\n",
       "                                                   └───────┘│       │  │  »\n",
       "q_16: ──────────────────────────────────────────────────────┤2      ├──■──»\n",
       "                                                            └───────┘     »\n",
       "q_17: ────────────────────────────────────────────────────────────────────»\n",
       "                                                                          »\n",
       "q_18: ────────────────────────────────────────────────────────────────────»\n",
       "                                                                          »\n",
       "q_19: ────────────────────────────────────────────────────────────────────»\n",
       "                                                                          »\n",
       "«                                                            ┌───────┐\n",
       "« q_0: ──────────────────────────────────────────────────────┤0      ├\n",
       "«                                                            │       │\n",
       "« q_1: ──────────────────────────────────────────────────────┤1      ├\n",
       "«                                                   ┌───────┐│       │\n",
       "« q_2: ─────────────────────────────────────────────┤0      ├┤       ├\n",
       "«                                          ┌───────┐│       ││       │\n",
       "« q_3: ────────────────────────────────────┤0      ├┤       ├┤       ├\n",
       "«                                 ┌───────┐│       ││       ││       │\n",
       "« q_4: ───────────────────────────┤0      ├┤       ├┤       ├┤       ├\n",
       "«                        ┌───────┐│       ││       ││       ││       │\n",
       "« q_5: ──────────────────┤0      ├┤       ├┤       ├┤       ├┤  RCCX ├\n",
       "«               ┌───────┐│       ││       ││       ││       ││       │\n",
       "« q_6: ─────────┤0      ├┤       ├┤       ├┤       ├┤       ├┤       ├\n",
       "«      ┌───────┐│       ││       ││       ││       ││  RCCX ││       │\n",
       "« q_7: ┤0      ├┤       ├┤       ├┤       ├┤       ├┤       ├┤       ├\n",
       "«      │       ││       ││       ││       ││  RCCX ││       ││       │\n",
       "« q_8: ┤       ├┤       ├┤       ├┤       ├┤       ├┤       ├┤       ├\n",
       "«      │       ││       ││       ││  RCCX ││       ││       ││       │\n",
       "« q_9: ┤       ├┤       ├┤       ├┤       ├┤       ├┤       ├┤       ├\n",
       "«      │       ││       ││  RCCX ││       ││       ││       ││       │\n",
       "«q_10: ┤       ├┤       ├┤       ├┤       ├┤       ├┤1      ├┤2      ├\n",
       "«      │       ││  RCCX ││       ││       ││       ││       │└───────┘\n",
       "«q_11: ┤       ├┤       ├┤       ├┤       ├┤1      ├┤2      ├─────────\n",
       "«      │  RCCX ││       ││       ││       ││       │└───────┘         \n",
       "«q_12: ┤       ├┤       ├┤       ├┤1      ├┤2      ├──────────────────\n",
       "«      │       ││       ││       ││       │└───────┘                  \n",
       "«q_13: ┤       ├┤       ├┤1      ├┤2      ├───────────────────────────\n",
       "«      │       ││       ││       │└───────┘                           \n",
       "«q_14: ┤       ├┤1      ├┤2      ├────────────────────────────────────\n",
       "«      │       ││       │└───────┘                                    \n",
       "«q_15: ┤1      ├┤2      ├─────────────────────────────────────────────\n",
       "«      │       │└───────┘                                             \n",
       "«q_16: ┤2      ├──────────────────────────────────────────────────────\n",
       "«      └───────┘                                                      \n",
       "«q_17: ───────────────────────────────────────────────────────────────\n",
       "«                                                                     \n",
       "«q_18: ───────────────────────────────────────────────────────────────\n",
       "«                                                                     \n",
       "«q_19: ───────────────────────────────────────────────────────────────\n",
       "«                                                                     "
      ]
     },
     "execution_count": 83,
     "metadata": {},
     "output_type": "execute_result"
    }
   ],
   "source": [
    "qc = QuantumCircuit(20)\n",
    "qc.mcx([0, 1, 2, 3, 4, 5, 6, 7, 8], 9, ancilla_qubits=[10, 11, 12, 13, 14, 15, 16, 17, 18, 19], mode='v-chain')\n",
    "qc.decompose().draw()"
   ]
  },
  {
   "cell_type": "code",
   "execution_count": 89,
   "metadata": {},
   "outputs": [
    {
     "data": {
      "text/html": [
       "<pre style=\"word-wrap: normal;white-space: pre;background: #fff0;line-height: 1.1;font-family: &quot;Courier New&quot;,Courier,monospace\">      ┌───────┐                       ┌───────┐\n",
       " q_0: ┤0      ├───────────────────────┤0      ├\n",
       "      │       │                       │       │\n",
       " q_1: ┤1      ├───────────────────────┤1      ├\n",
       "      │       │┌───────┐     ┌───────┐│       │\n",
       " q_2: ┤       ├┤0      ├─────┤0      ├┤       ├\n",
       "      │  RCCX ││       │     │       ││  RCCX │\n",
       " q_3: ┤       ├┤       ├──■──┤       ├┤       ├\n",
       "      │       ││       │┌─┴─┐│       ││       │\n",
       " q_4: ┤       ├┤  RCCX ├┤ X ├┤  RCCX ├┤       ├\n",
       "      │       ││       │└─┬─┘│       ││       │\n",
       " q_5: ┤2      ├┤1      ├──┼──┤1      ├┤2      ├\n",
       "      └───────┘│       │  │  │       │└───────┘\n",
       " q_6: ─────────┤2      ├──■──┤2      ├─────────\n",
       "               └───────┘     └───────┘         \n",
       " q_7: ─────────────────────────────────────────\n",
       "                                               \n",
       " q_8: ─────────────────────────────────────────\n",
       "                                               \n",
       " q_9: ─────────────────────────────────────────\n",
       "                                               \n",
       "q_10: ─────────────────────────────────────────\n",
       "                                               \n",
       "q_11: ─────────────────────────────────────────\n",
       "                                               \n",
       "q_12: ─────────────────────────────────────────\n",
       "                                               \n",
       "q_13: ─────────────────────────────────────────\n",
       "                                               \n",
       "q_14: ─────────────────────────────────────────\n",
       "                                               \n",
       "q_15: ─────────────────────────────────────────\n",
       "                                               \n",
       "q_16: ─────────────────────────────────────────\n",
       "                                               \n",
       "q_17: ─────────────────────────────────────────\n",
       "                                               \n",
       "q_18: ─────────────────────────────────────────\n",
       "                                               \n",
       "q_19: ─────────────────────────────────────────\n",
       "                                               </pre>"
      ],
      "text/plain": [
       "      ┌───────┐                       ┌───────┐\n",
       " q_0: ┤0      ├───────────────────────┤0      ├\n",
       "      │       │                       │       │\n",
       " q_1: ┤1      ├───────────────────────┤1      ├\n",
       "      │       │┌───────┐     ┌───────┐│       │\n",
       " q_2: ┤       ├┤0      ├─────┤0      ├┤       ├\n",
       "      │  RCCX ││       │     │       ││  RCCX │\n",
       " q_3: ┤       ├┤       ├──■──┤       ├┤       ├\n",
       "      │       ││       │┌─┴─┐│       ││       │\n",
       " q_4: ┤       ├┤  RCCX ├┤ X ├┤  RCCX ├┤       ├\n",
       "      │       ││       │└─┬─┘│       ││       │\n",
       " q_5: ┤2      ├┤1      ├──┼──┤1      ├┤2      ├\n",
       "      └───────┘│       │  │  │       │└───────┘\n",
       " q_6: ─────────┤2      ├──■──┤2      ├─────────\n",
       "               └───────┘     └───────┘         \n",
       " q_7: ─────────────────────────────────────────\n",
       "                                               \n",
       " q_8: ─────────────────────────────────────────\n",
       "                                               \n",
       " q_9: ─────────────────────────────────────────\n",
       "                                               \n",
       "q_10: ─────────────────────────────────────────\n",
       "                                               \n",
       "q_11: ─────────────────────────────────────────\n",
       "                                               \n",
       "q_12: ─────────────────────────────────────────\n",
       "                                               \n",
       "q_13: ─────────────────────────────────────────\n",
       "                                               \n",
       "q_14: ─────────────────────────────────────────\n",
       "                                               \n",
       "q_15: ─────────────────────────────────────────\n",
       "                                               \n",
       "q_16: ─────────────────────────────────────────\n",
       "                                               \n",
       "q_17: ─────────────────────────────────────────\n",
       "                                               \n",
       "q_18: ─────────────────────────────────────────\n",
       "                                               \n",
       "q_19: ─────────────────────────────────────────\n",
       "                                               "
      ]
     },
     "execution_count": 89,
     "metadata": {},
     "output_type": "execute_result"
    }
   ],
   "source": [
    "qc = QuantumCircuit(20)\n",
    "qc.mcx([0, 1, 2, 3], 4, ancilla_qubits=[5, 6], mode='v-chain')\n",
    "qc.decompose().draw()"
   ]
  },
  {
   "cell_type": "code",
   "execution_count": 108,
   "metadata": {},
   "outputs": [
    {
     "name": "stdout",
     "output_type": "stream",
     "text": [
      "1 1\n",
      "2 6\n",
      "3 20\n",
      "4 64\n",
      "5 80\n",
      "6 168\n",
      "7 256\n",
      "8 288\n",
      "9 320\n",
      "10 496\n",
      "11 672\n",
      "12 848\n",
      "13 1024\n",
      "14 1088\n",
      "15 1152\n",
      "16 1216\n",
      "17 1280\n",
      "18 1632\n",
      "19 1984\n",
      "20 2336\n",
      "21 2688\n",
      "22 3040\n",
      "23 3392\n",
      "24 3744\n",
      "25 4096\n",
      "26 4224\n",
      "27 4352\n",
      "28 4480\n",
      "29 4608\n",
      "30 4736\n",
      "31 4864\n",
      "32 4992\n",
      "33 5120\n",
      "34 5824\n",
      "35 6528\n",
      "36 7232\n",
      "37 7936\n",
      "38 8640\n",
      "39 9344\n",
      "40 10048\n",
      "41 10752\n",
      "42 11456\n",
      "43 12160\n",
      "44 12864\n",
      "45 13568\n",
      "46 14272\n",
      "47 14976\n",
      "48 15680\n",
      "49 16384\n",
      "50 16640\n",
      "51 16896\n",
      "52 17152\n",
      "53 17408\n",
      "54 17664\n",
      "55 17920\n",
      "56 18176\n",
      "57 18432\n",
      "58 18688\n",
      "59 18944\n",
      "60 19200\n",
      "61 19456\n",
      "62 19712\n",
      "63 19968\n",
      "64 20224\n",
      "65 20480\n",
      "66 21888\n",
      "67 23296\n",
      "68 24704\n",
      "69 26112\n",
      "70 27520\n",
      "71 28928\n",
      "72 30336\n",
      "73 31744\n",
      "74 33152\n",
      "75 34560\n",
      "76 35968\n",
      "77 37376\n",
      "78 38784\n",
      "79 40192\n",
      "80 41600\n",
      "81 43008\n",
      "82 44416\n",
      "83 45824\n",
      "84 47232\n",
      "85 48640\n",
      "86 50048\n",
      "87 51456\n",
      "88 52864\n",
      "89 54272\n",
      "90 55680\n",
      "91 57088\n",
      "92 58496\n",
      "93 59904\n",
      "94 61312\n",
      "95 62720\n",
      "96 64128\n",
      "97 65536\n",
      "98 66048\n",
      "99 66560\n",
      "100 67072\n"
     ]
    }
   ],
   "source": [
    "for i in range(1, 101):\n",
    "    qc = QuantumCircuit(i+2)\n",
    "    qc.mcx(list(range(i)), i, ancilla_qubits=[i+1], mode='recursion')\n",
    "    print(i, qc.decompose().decompose().decompose().decompose().decompose().count_ops()['cx'])"
   ]
  },
  {
   "cell_type": "code",
   "execution_count": 105,
   "metadata": {},
   "outputs": [
    {
     "ename": "SyntaxError",
     "evalue": "invalid syntax (<ipython-input-105-ed4ae9123f73>, line 5)",
     "output_type": "error",
     "traceback": [
      "\u001b[1;36m  File \u001b[1;32m\"<ipython-input-105-ed4ae9123f73>\"\u001b[1;36m, line \u001b[1;32m5\u001b[0m\n\u001b[1;33m    qc.decompose().decompose().decompose().decompose().decompose().count_ops()\u001b[0m\n\u001b[1;37m     ^\u001b[0m\n\u001b[1;31mSyntaxError\u001b[0m\u001b[1;31m:\u001b[0m invalid syntax\n"
     ]
    }
   ],
   "source": [
    "i=3\n",
    "\n",
    "qc = QuantumCircuit(i+2)\n",
    "qc.mcx(list(range(i), i, ancilla_qubits=[i+1], mode='recursion')\n",
    "qc.decompose().decompose().decompose().decompose().decompose().count_ops()"
   ]
  },
  {
   "cell_type": "code",
   "execution_count": null,
   "metadata": {},
   "outputs": [],
   "source": []
  }
 ],
 "metadata": {
  "kernelspec": {
   "display_name": "Python 3",
   "language": "python",
   "name": "python3"
  },
  "language_info": {
   "codemirror_mode": {
    "name": "ipython",
    "version": 3
   },
   "file_extension": ".py",
   "mimetype": "text/x-python",
   "name": "python",
   "nbconvert_exporter": "python",
   "pygments_lexer": "ipython3",
   "version": "3.7.3"
  }
 },
 "nbformat": 4,
 "nbformat_minor": 2
}
