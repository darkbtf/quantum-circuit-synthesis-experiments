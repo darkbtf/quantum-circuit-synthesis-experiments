{
 "cells": [
  {
   "cell_type": "code",
   "execution_count": 1,
   "metadata": {},
   "outputs": [
    {
     "name": "stderr",
     "output_type": "stream",
     "text": [
      "C:\\ProgramData\\Anaconda3\\lib\\site-packages\\numpy\\_distributor_init.py:32: UserWarning: loaded more than 1 DLL from .libs:\n",
      "C:\\ProgramData\\Anaconda3\\lib\\site-packages\\numpy\\.libs\\libopenblas.GK7GX5KEQ4F6UYO3P26ULGBQYHGQO7J4.gfortran-win_amd64.dll\n",
      "C:\\ProgramData\\Anaconda3\\lib\\site-packages\\numpy\\.libs\\libopenblas.PYQHXLVVQ7VESDPUVUADXEVJOBGHJPAY.gfortran-win_amd64.dll\n",
      "  stacklevel=1)\n",
      "C:\\ProgramData\\Anaconda3\\lib\\site-packages\\qiskit\\validation\\fields\\custom.py:76: DeprecationWarning: `np.float` is a deprecated alias for the builtin `float`. To silence this warning, use `float` by itself. Doing this will not modify any behavior and is safe. If you specifically wanted the numpy scalar type, use `np.float64` here.\n",
      "Deprecated in NumPy 1.20; for more details and guidance: https://numpy.org/devdocs/release/1.20.0-notes.html#deprecations\n",
      "  numpy.integer, numpy.float,\n",
      "C:\\ProgramData\\Anaconda3\\lib\\site-packages\\qiskit\\quantum_info\\operators\\pauli.py:111: DeprecationWarning: `np.bool` is a deprecated alias for the builtin `bool`. To silence this warning, use `bool` by itself. Doing this will not modify any behavior and is safe. If you specifically wanted the numpy scalar type, use `np.bool_` here.\n",
      "Deprecated in NumPy 1.20; for more details and guidance: https://numpy.org/devdocs/release/1.20.0-notes.html#deprecations\n",
      "  z = np.zeros(len(label), dtype=np.bool)\n",
      "C:\\ProgramData\\Anaconda3\\lib\\site-packages\\qiskit\\quantum_info\\operators\\pauli.py:112: DeprecationWarning: `np.bool` is a deprecated alias for the builtin `bool`. To silence this warning, use `bool` by itself. Doing this will not modify any behavior and is safe. If you specifically wanted the numpy scalar type, use `np.bool_` here.\n",
      "Deprecated in NumPy 1.20; for more details and guidance: https://numpy.org/devdocs/release/1.20.0-notes.html#deprecations\n",
      "  x = np.zeros(len(label), dtype=np.bool)\n",
      "C:\\ProgramData\\Anaconda3\\lib\\site-packages\\qiskit\\quantum_info\\operators\\pauli.py:34: DeprecationWarning: `np.bool` is a deprecated alias for the builtin `bool`. To silence this warning, use `bool` by itself. Doing this will not modify any behavior and is safe. If you specifically wanted the numpy scalar type, use `np.bool_` here.\n",
      "Deprecated in NumPy 1.20; for more details and guidance: https://numpy.org/devdocs/release/1.20.0-notes.html#deprecations\n",
      "  arr = np.asarray(arr).astype(np.bool)\n",
      "C:\\ProgramData\\Anaconda3\\lib\\site-packages\\qiskit\\quantum_info\\operators\\pauli.py:34: DeprecationWarning: `np.bool` is a deprecated alias for the builtin `bool`. To silence this warning, use `bool` by itself. Doing this will not modify any behavior and is safe. If you specifically wanted the numpy scalar type, use `np.bool_` here.\n",
      "Deprecated in NumPy 1.20; for more details and guidance: https://numpy.org/devdocs/release/1.20.0-notes.html#deprecations\n",
      "  arr = np.asarray(arr).astype(np.bool)\n",
      "C:\\ProgramData\\Anaconda3\\lib\\site-packages\\qiskit\\quantum_info\\operators\\pauli.py:111: DeprecationWarning: `np.bool` is a deprecated alias for the builtin `bool`. To silence this warning, use `bool` by itself. Doing this will not modify any behavior and is safe. If you specifically wanted the numpy scalar type, use `np.bool_` here.\n",
      "Deprecated in NumPy 1.20; for more details and guidance: https://numpy.org/devdocs/release/1.20.0-notes.html#deprecations\n",
      "  z = np.zeros(len(label), dtype=np.bool)\n",
      "C:\\ProgramData\\Anaconda3\\lib\\site-packages\\qiskit\\quantum_info\\operators\\pauli.py:112: DeprecationWarning: `np.bool` is a deprecated alias for the builtin `bool`. To silence this warning, use `bool` by itself. Doing this will not modify any behavior and is safe. If you specifically wanted the numpy scalar type, use `np.bool_` here.\n",
      "Deprecated in NumPy 1.20; for more details and guidance: https://numpy.org/devdocs/release/1.20.0-notes.html#deprecations\n",
      "  x = np.zeros(len(label), dtype=np.bool)\n",
      "C:\\ProgramData\\Anaconda3\\lib\\site-packages\\qiskit\\quantum_info\\operators\\pauli.py:34: DeprecationWarning: `np.bool` is a deprecated alias for the builtin `bool`. To silence this warning, use `bool` by itself. Doing this will not modify any behavior and is safe. If you specifically wanted the numpy scalar type, use `np.bool_` here.\n",
      "Deprecated in NumPy 1.20; for more details and guidance: https://numpy.org/devdocs/release/1.20.0-notes.html#deprecations\n",
      "  arr = np.asarray(arr).astype(np.bool)\n",
      "C:\\ProgramData\\Anaconda3\\lib\\site-packages\\qiskit\\quantum_info\\operators\\pauli.py:34: DeprecationWarning: `np.bool` is a deprecated alias for the builtin `bool`. To silence this warning, use `bool` by itself. Doing this will not modify any behavior and is safe. If you specifically wanted the numpy scalar type, use `np.bool_` here.\n",
      "Deprecated in NumPy 1.20; for more details and guidance: https://numpy.org/devdocs/release/1.20.0-notes.html#deprecations\n",
      "  arr = np.asarray(arr).astype(np.bool)\n",
      "C:\\ProgramData\\Anaconda3\\lib\\site-packages\\qiskit\\quantum_info\\operators\\pauli.py:111: DeprecationWarning: `np.bool` is a deprecated alias for the builtin `bool`. To silence this warning, use `bool` by itself. Doing this will not modify any behavior and is safe. If you specifically wanted the numpy scalar type, use `np.bool_` here.\n",
      "Deprecated in NumPy 1.20; for more details and guidance: https://numpy.org/devdocs/release/1.20.0-notes.html#deprecations\n",
      "  z = np.zeros(len(label), dtype=np.bool)\n",
      "C:\\ProgramData\\Anaconda3\\lib\\site-packages\\qiskit\\quantum_info\\operators\\pauli.py:112: DeprecationWarning: `np.bool` is a deprecated alias for the builtin `bool`. To silence this warning, use `bool` by itself. Doing this will not modify any behavior and is safe. If you specifically wanted the numpy scalar type, use `np.bool_` here.\n",
      "Deprecated in NumPy 1.20; for more details and guidance: https://numpy.org/devdocs/release/1.20.0-notes.html#deprecations\n",
      "  x = np.zeros(len(label), dtype=np.bool)\n",
      "C:\\ProgramData\\Anaconda3\\lib\\site-packages\\qiskit\\quantum_info\\operators\\pauli.py:34: DeprecationWarning: `np.bool` is a deprecated alias for the builtin `bool`. To silence this warning, use `bool` by itself. Doing this will not modify any behavior and is safe. If you specifically wanted the numpy scalar type, use `np.bool_` here.\n",
      "Deprecated in NumPy 1.20; for more details and guidance: https://numpy.org/devdocs/release/1.20.0-notes.html#deprecations\n",
      "  arr = np.asarray(arr).astype(np.bool)\n",
      "C:\\ProgramData\\Anaconda3\\lib\\site-packages\\qiskit\\quantum_info\\operators\\pauli.py:34: DeprecationWarning: `np.bool` is a deprecated alias for the builtin `bool`. To silence this warning, use `bool` by itself. Doing this will not modify any behavior and is safe. If you specifically wanted the numpy scalar type, use `np.bool_` here.\n",
      "Deprecated in NumPy 1.20; for more details and guidance: https://numpy.org/devdocs/release/1.20.0-notes.html#deprecations\n",
      "  arr = np.asarray(arr).astype(np.bool)\n",
      "C:\\ProgramData\\Anaconda3\\lib\\site-packages\\qiskit\\quantum_info\\operators\\pauli.py:111: DeprecationWarning: `np.bool` is a deprecated alias for the builtin `bool`. To silence this warning, use `bool` by itself. Doing this will not modify any behavior and is safe. If you specifically wanted the numpy scalar type, use `np.bool_` here.\n",
      "Deprecated in NumPy 1.20; for more details and guidance: https://numpy.org/devdocs/release/1.20.0-notes.html#deprecations\n",
      "  z = np.zeros(len(label), dtype=np.bool)\n",
      "C:\\ProgramData\\Anaconda3\\lib\\site-packages\\qiskit\\quantum_info\\operators\\pauli.py:112: DeprecationWarning: `np.bool` is a deprecated alias for the builtin `bool`. To silence this warning, use `bool` by itself. Doing this will not modify any behavior and is safe. If you specifically wanted the numpy scalar type, use `np.bool_` here.\n",
      "Deprecated in NumPy 1.20; for more details and guidance: https://numpy.org/devdocs/release/1.20.0-notes.html#deprecations\n",
      "  x = np.zeros(len(label), dtype=np.bool)\n",
      "C:\\ProgramData\\Anaconda3\\lib\\site-packages\\qiskit\\quantum_info\\operators\\pauli.py:34: DeprecationWarning: `np.bool` is a deprecated alias for the builtin `bool`. To silence this warning, use `bool` by itself. Doing this will not modify any behavior and is safe. If you specifically wanted the numpy scalar type, use `np.bool_` here.\n",
      "Deprecated in NumPy 1.20; for more details and guidance: https://numpy.org/devdocs/release/1.20.0-notes.html#deprecations\n",
      "  arr = np.asarray(arr).astype(np.bool)\n",
      "C:\\ProgramData\\Anaconda3\\lib\\site-packages\\qiskit\\quantum_info\\operators\\pauli.py:34: DeprecationWarning: `np.bool` is a deprecated alias for the builtin `bool`. To silence this warning, use `bool` by itself. Doing this will not modify any behavior and is safe. If you specifically wanted the numpy scalar type, use `np.bool_` here.\n",
      "Deprecated in NumPy 1.20; for more details and guidance: https://numpy.org/devdocs/release/1.20.0-notes.html#deprecations\n",
      "  arr = np.asarray(arr).astype(np.bool)\n"
     ]
    }
   ],
   "source": [
    "from qiskit import QuantumCircuit\n",
    "from qiskit.compiler import transpile\n",
    "from qiskit.transpiler import PassManager"
   ]
  },
  {
   "cell_type": "code",
   "execution_count": 2,
   "metadata": {},
   "outputs": [],
   "source": [
    "# Transpilation Sample Code\n",
    "from qiskit.transpiler import CouplingMap, Layout\n",
    "from qiskit.transpiler.passes import BasicSwap, LookaheadSwap, StochasticSwap"
   ]
  },
  {
   "cell_type": "code",
   "execution_count": 125,
   "metadata": {},
   "outputs": [],
   "source": [
    "# cost function\n",
    "def circuit_cost(circuit):\n",
    "    costs = {\n",
    "        'cx': 1,\n",
    "        'swap': 3,\n",
    "        'h': 0,\n",
    "        'u1': 0,\n",
    "        'u2': 0,\n",
    "        'u3': 0,\n",
    "        'tdg': 0,\n",
    "        't': 0\n",
    "    }\n",
    "    ops_count = circuit.count_ops()\n",
    "    total_cost = 0\n",
    "    for k, v in ops_count.items():\n",
    "        total_cost += costs[k] * v\n",
    "    return total_cost"
   ]
  },
  {
   "cell_type": "code",
   "execution_count": 41,
   "metadata": {},
   "outputs": [],
   "source": [
    "from qiskit import QuantumCircuit\n",
    "\n",
    "from random import randint, choice, sample\n",
    "\n",
    "\n",
    "# 1. Random generate MCT circuits\n",
    "def generate_random_mct_circuit(n_qubits=10, n_gates=20, control_qubits=[3]):\n",
    "    qc = QuantumCircuit(n_qubits)\n",
    "    for _ in range(n_gates):\n",
    "        this_control_qubits = choice(control_qubits)\n",
    "        qubit_indices = sample(list(range(n_qubits)), this_control_qubits*2-1)\n",
    "        qc.mcx(qubit_indices[:this_control_qubits], qubit_indices[-1], ancilla_qubits=qubit_indices[this_control_qubits:-1], mode='v-chain')\n",
    "    return qc"
   ]
  },
  {
   "cell_type": "code",
   "execution_count": 93,
   "metadata": {
    "scrolled": true
   },
   "outputs": [
    {
     "data": {
      "text/html": [
       "<pre style=\"word-wrap: normal;white-space: pre;background: #fff0;line-height: 1.1;font-family: &quot;Courier New&quot;,Courier,monospace\">                        \n",
       " q_0: ──────────────────\n",
       "                        \n",
       " q_1: ──────────────────\n",
       "                        \n",
       " q_2: ──────────────────\n",
       "                        \n",
       " q_3: ──────────────────\n",
       "                        \n",
       " q_4: ──■───────────■───\n",
       "        │           │   \n",
       " q_5: ──┼───────────┼───\n",
       "        │           │   \n",
       " q_6: ──┼───────────┼───\n",
       "        │           │   \n",
       " q_7: ──┼───────────┼───\n",
       "        │           │   \n",
       " q_8: ──┼───────────┼───\n",
       "        │           │   \n",
       " q_9: ──┼───────────┼───\n",
       "        │           │   \n",
       "q_10: ──■───────────┼───\n",
       "        │           │   \n",
       "q_11: ──┼───────────┼───\n",
       "        │         ┌─┴──┐\n",
       "q_12: ──┼─────────┤0   ├\n",
       "        │         │    │\n",
       "q_13: ──┼─────────┤    ├\n",
       "        │         │    │\n",
       "q_14: ──┼─────────┤    ├\n",
       "        │         │    │\n",
       "q_15: ──┼─────────┤    ├\n",
       "        │         │  X │\n",
       "q_16: ──┼─────■───┤    ├\n",
       "        │     │   │    │\n",
       "q_17: ──┼─────■───┤    ├\n",
       "        │   ┌─┴──┐│    │\n",
       "q_18: ──┼───┤0   ├┤    ├\n",
       "        │   │    ││    │\n",
       "q_19: ──┼───┤    ├┤1   ├\n",
       "        │   │    │└─┬──┘\n",
       "q_20: ──┼───┤    ├──┼───\n",
       "        │   │    │  │   \n",
       "q_21: ──┼───┤    ├──┼───\n",
       "        │   │    │  │   \n",
       "q_22: ──┼───┤    ├──┼───\n",
       "        │   │    │  │   \n",
       "q_23: ──┼───■    ├──┼───\n",
       "        │   │    │  │   \n",
       "q_24: ──┼───┤    ├──┼───\n",
       "        │   │    │  │   \n",
       "q_25: ──┼───┤  X ├──┼───\n",
       "        │   │    │  │   \n",
       "q_26: ──┼───┤    ├──■───\n",
       "        │   │    │  │   \n",
       "q_27: ──┼───┤    ├──┼───\n",
       "        │   │    │  │   \n",
       "q_28: ──┼───┤    ├──┼───\n",
       "        │   │    │  │   \n",
       "q_29: ──┼───┤    ├──┼───\n",
       "        │   │    │  │   \n",
       "q_30: ──┼───┤    ├──┼───\n",
       "        │   │    │  │   \n",
       "q_31: ──┼───┤    ├──┼───\n",
       "        │   │    │  │   \n",
       "q_32: ──┼───┤1   ├──┼───\n",
       "      ┌─┴──┐└────┘  │   \n",
       "q_33: ┤0   ├────────┼───\n",
       "      │    │        │   \n",
       "q_34: ┤    ├────────┼───\n",
       "      │    │        │   \n",
       "q_35: ┤    ├────────┼───\n",
       "      │    │        │   \n",
       "q_36: ┤    ├────────┼───\n",
       "      │    │        │   \n",
       "q_37: ┤    ├────────┼───\n",
       "      │    │        │   \n",
       "q_38: ┤    ├────────┼───\n",
       "      │    │        │   \n",
       "q_39: ┤    ├────────┼───\n",
       "      │    │        │   \n",
       "q_40: ┤  X ├────────┼───\n",
       "      │    │        │   \n",
       "q_41: ┤    ├────────┼───\n",
       "      │    │        │   \n",
       "q_42: ■    ├────────┼───\n",
       "      │    │        │   \n",
       "q_43: ┤    ├────────┼───\n",
       "      │    │        │   \n",
       "q_44: ┤    ├────────■───\n",
       "      │    │            \n",
       "q_45: ┤    ├────────────\n",
       "      │    │            \n",
       "q_46: ┤    ├────────────\n",
       "      │    │            \n",
       "q_47: ┤1   ├────────────\n",
       "      └────┘            \n",
       "q_48: ──────────────────\n",
       "                        \n",
       "q_49: ──────────────────\n",
       "                        \n",
       "q_50: ──────────────────\n",
       "                        \n",
       "q_51: ──────────────────\n",
       "                        \n",
       "q_52: ──────────────────\n",
       "                        \n",
       "q_53: ──────────────────\n",
       "                        </pre>"
      ],
      "text/plain": [
       "                        \n",
       " q_0: ──────────────────\n",
       "                        \n",
       " q_1: ──────────────────\n",
       "                        \n",
       " q_2: ──────────────────\n",
       "                        \n",
       " q_3: ──────────────────\n",
       "                        \n",
       " q_4: ──■───────────■───\n",
       "        │           │   \n",
       " q_5: ──┼───────────┼───\n",
       "        │           │   \n",
       " q_6: ──┼───────────┼───\n",
       "        │           │   \n",
       " q_7: ──┼───────────┼───\n",
       "        │           │   \n",
       " q_8: ──┼───────────┼───\n",
       "        │           │   \n",
       " q_9: ──┼───────────┼───\n",
       "        │           │   \n",
       "q_10: ──■───────────┼───\n",
       "        │           │   \n",
       "q_11: ──┼───────────┼───\n",
       "        │         ┌─┴──┐\n",
       "q_12: ──┼─────────┤0   ├\n",
       "        │         │    │\n",
       "q_13: ──┼─────────┤    ├\n",
       "        │         │    │\n",
       "q_14: ──┼─────────┤    ├\n",
       "        │         │    │\n",
       "q_15: ──┼─────────┤    ├\n",
       "        │         │  X │\n",
       "q_16: ──┼─────■───┤    ├\n",
       "        │     │   │    │\n",
       "q_17: ──┼─────■───┤    ├\n",
       "        │   ┌─┴──┐│    │\n",
       "q_18: ──┼───┤0   ├┤    ├\n",
       "        │   │    ││    │\n",
       "q_19: ──┼───┤    ├┤1   ├\n",
       "        │   │    │└─┬──┘\n",
       "q_20: ──┼───┤    ├──┼───\n",
       "        │   │    │  │   \n",
       "q_21: ──┼───┤    ├──┼───\n",
       "        │   │    │  │   \n",
       "q_22: ──┼───┤    ├──┼───\n",
       "        │   │    │  │   \n",
       "q_23: ──┼───■    ├──┼───\n",
       "        │   │    │  │   \n",
       "q_24: ──┼───┤    ├──┼───\n",
       "        │   │    │  │   \n",
       "q_25: ──┼───┤  X ├──┼───\n",
       "        │   │    │  │   \n",
       "q_26: ──┼───┤    ├──■───\n",
       "        │   │    │  │   \n",
       "q_27: ──┼───┤    ├──┼───\n",
       "        │   │    │  │   \n",
       "q_28: ──┼───┤    ├──┼───\n",
       "        │   │    │  │   \n",
       "q_29: ──┼───┤    ├──┼───\n",
       "        │   │    │  │   \n",
       "q_30: ──┼───┤    ├──┼───\n",
       "        │   │    │  │   \n",
       "q_31: ──┼───┤    ├──┼───\n",
       "        │   │    │  │   \n",
       "q_32: ──┼───┤1   ├──┼───\n",
       "      ┌─┴──┐└────┘  │   \n",
       "q_33: ┤0   ├────────┼───\n",
       "      │    │        │   \n",
       "q_34: ┤    ├────────┼───\n",
       "      │    │        │   \n",
       "q_35: ┤    ├────────┼───\n",
       "      │    │        │   \n",
       "q_36: ┤    ├────────┼───\n",
       "      │    │        │   \n",
       "q_37: ┤    ├────────┼───\n",
       "      │    │        │   \n",
       "q_38: ┤    ├────────┼───\n",
       "      │    │        │   \n",
       "q_39: ┤    ├────────┼───\n",
       "      │    │        │   \n",
       "q_40: ┤  X ├────────┼───\n",
       "      │    │        │   \n",
       "q_41: ┤    ├────────┼───\n",
       "      │    │        │   \n",
       "q_42: ■    ├────────┼───\n",
       "      │    │        │   \n",
       "q_43: ┤    ├────────┼───\n",
       "      │    │        │   \n",
       "q_44: ┤    ├────────■───\n",
       "      │    │            \n",
       "q_45: ┤    ├────────────\n",
       "      │    │            \n",
       "q_46: ┤    ├────────────\n",
       "      │    │            \n",
       "q_47: ┤1   ├────────────\n",
       "      └────┘            \n",
       "q_48: ──────────────────\n",
       "                        \n",
       "q_49: ──────────────────\n",
       "                        \n",
       "q_50: ──────────────────\n",
       "                        \n",
       "q_51: ──────────────────\n",
       "                        \n",
       "q_52: ──────────────────\n",
       "                        \n",
       "q_53: ──────────────────\n",
       "                        "
      ]
     },
     "execution_count": 93,
     "metadata": {},
     "output_type": "execute_result"
    }
   ],
   "source": [
    "rand_circuit1 = generate_random_mct_circuit(n_qubits=53, n_gates=3, control_qubits=[3])\n",
    "rand_circuit1.draw()"
   ]
  },
  {
   "cell_type": "code",
   "execution_count": 3,
   "metadata": {},
   "outputs": [],
   "source": [
    "# Architectures\n",
    "INDEX_CONNECTION_LIST = {\"Ourense\": [(0, 1), (1, 2), (1, 3), (3, 4)],\n",
    "                       \"54QBT\": [(0, 6), (1, 6), (1, 7), (2, 7), (2, 8), (3, 8), (3, 9), (4, 9), (4, 10), (5, 10), (5, 11),\n",
    "                                    (6, 12), (6, 13), (7, 13), (7, 14), (8, 14), (8, 15), (9, 15), (9, 16), (10, 16), (10, 17), (11, 17),\n",
    "                                    (12, 18), (13, 18), (13, 19), (14, 19), (14, 20), (15, 20), (15, 21), (16, 21), (16, 22), (17, 22), (17, 23),\n",
    "                                    (18, 24), (18, 25), (19, 25), (19, 26), (20, 26), (20, 27), (21, 27), (21, 28), (22, 28), (22, 29), (23, 29),\n",
    "                                    (24, 30), (25, 30), (25, 31), (26, 31), (26, 32), (27, 32), (27, 33), (28, 33), (28, 34), (29, 34), (29, 35),\n",
    "                                    (30, 36), (30, 37), (31, 37), (31, 38), (32, 38), (32, 39), (33, 39), (33, 40), (34, 40), (34, 41), (35, 41),\n",
    "                                    (36, 42), (37, 42), (37, 43), (38, 43), (38, 44), (39, 44), (39, 45), (40, 45), (40, 46), (41, 46), (41, 47),\n",
    "                                    (42, 48), (42, 49), (43, 49), (43, 50), (44, 50), (44, 51), (45, 51), (45, 52), (46, 52), (46, 53), (47, 53)],\n",
    "                       \"53QBT\": [(0, 1), (1, 2), (2, 3), (3, 4),\n",
    "                                     (0, 5), (4, 6), (5, 9), (6, 13),\n",
    "                                     (7, 8), (8, 9), (9, 10), (10, 11), (11, 12), (12, 13), (13, 14), (14, 15),\n",
    "                                     (7, 16), (11, 17), (15, 18), (16, 19), (17, 23), (18, 27),\n",
    "                                     (19, 20), (20, 21), (21, 22), (22, 23), (23, 24), (24, 25), (25, 26), (26, 27),\n",
    "                                     (21, 28), (25, 29), (28, 32), (29, 36),\n",
    "                                     (30, 31), (31, 32), (32, 33), (33, 34), (34, 35), (35, 36), (36, 37), (37, 38),\n",
    "                                     (30, 39), (34, 40), (38, 41), (39, 42), (40, 46), (41, 50),\n",
    "                                     (42, 43), (43, 44), (44, 45), (45, 46), (46, 47), (47, 48), (48, 49), (49, 50),\n",
    "                                     (44, 51), (48, 52)],\n",
    "                       \"20QBT\": [(0, 1), (1, 2), (2, 3), (3, 4),\n",
    "                                 (0, 5), (1, 6), (1, 7), (2, 6), (2, 7), (3, 8), (3, 9), (4, 8), (4, 9),\n",
    "                                 (5, 6), (6, 7), (7, 8), (8, 9),\n",
    "                                 (5, 10), (5, 11), (6, 10), (6, 11), (7, 12), (7, 13), (8, 12), (8, 13), (9, 14),\n",
    "                                 (10, 11), (11, 12), (12, 13), (13, 14),\n",
    "                                 (10, 15), (11, 16), (11, 17), (12, 16), (12, 17), (13, 18), (13, 19), (14, 18), (14, 19),\n",
    "                                 (15, 16), (16, 17), (17, 18), (18, 19)],\n",
    "                       \"16QBT\": [(0, 1), (1, 2), (2, 3), (3, 4), (4, 5), (5, 6), (6, 7),\n",
    "                                   (0, 8), (3, 11), (4, 12), (7, 15),\n",
    "                                   (8, 9), (9, 10), (10, 11), (11, 12), (12, 13), (13, 14), (14, 15)]\n",
    "                       }"
   ]
  },
  {
   "cell_type": "code",
   "execution_count": 130,
   "metadata": {},
   "outputs": [],
   "source": [
    "# Baseline\n",
    "def qiskit_baselines(circuit, architecture=INDEX_CONNECTION_LIST['53QBT']):\n",
    "    for i in range(10):\n",
    "        circuit = circuit.decompose()\n",
    "    results = {}\n",
    "    \n",
    "    coupling_map = CouplingMap(couplinglist=architecture)\n",
    "    \n",
    "    print('run basic')\n",
    "    bs = BasicSwap(coupling_map=coupling_map)\n",
    "    pass_manager = PassManager(bs)\n",
    "    basic_circ = pass_manager.run(circuit)\n",
    "    results['basic_swap'] = circuit_cost(basic_circ)\n",
    "    \n",
    "#     print('run lookahead')\n",
    "#     ls = LookaheadSwap(coupling_map=coupling_map)\n",
    "#     pass_manager = PassManager(ls)\n",
    "#     lookahead_circ = pass_manager.run(circuit)\n",
    "#     results['lookahead_swap'] = circuit_cost(lookahead_circ)\n",
    "\n",
    "    print('run stochastic')\n",
    "    ss = StochasticSwap(coupling_map=coupling_map)\n",
    "    pass_manager = PassManager(ss)\n",
    "    stochastic_circ = pass_manager.run(circuit)\n",
    "    results['stochastic_swap'] = circuit_cost(stochastic_circ)\n",
    "    \n",
    "    return results"
   ]
  },
  {
   "cell_type": "code",
   "execution_count": 94,
   "metadata": {},
   "outputs": [
    {
     "name": "stdout",
     "output_type": "stream",
     "text": [
      "OrderedDict([('swap', 82), ('cx', 36), ('u1', 24), ('u2', 12), ('t', 12), ('tdg', 9), ('h', 6)])\n",
      "OrderedDict([('swap', 37), ('cx', 36), ('u1', 24), ('u2', 12), ('t', 12), ('tdg', 9), ('h', 6)])\n",
      "OrderedDict([('swap', 76), ('cx', 36), ('u1', 24), ('u2', 12), ('t', 12), ('tdg', 9), ('h', 6)])\n"
     ]
    },
    {
     "data": {
      "text/plain": [
       "{'basic_swap': 282, 'lookahead_swap': 147, 'stochastic_swap': 264}"
      ]
     },
     "execution_count": 94,
     "metadata": {},
     "output_type": "execute_result"
    }
   ],
   "source": [
    "qiskit_baselines(rand_circuit1)"
   ]
  },
  {
   "cell_type": "code",
   "execution_count": 108,
   "metadata": {},
   "outputs": [
    {
     "name": "stdout",
     "output_type": "stream",
     "text": [
      "[Qubit(QuantumRegister(54, 'q'), 10), Qubit(QuantumRegister(54, 'q'), 4), Qubit(QuantumRegister(54, 'q'), 42), Qubit(QuantumRegister(54, 'q'), 33), Qubit(QuantumRegister(54, 'q'), 47)]\n"
     ]
    }
   ],
   "source": [
    "print(rand_circuit1.data[0][1])"
   ]
  },
  {
   "cell_type": "code",
   "execution_count": 133,
   "metadata": {},
   "outputs": [],
   "source": [
    "def all_pair_shortest_paths(adjacent_list):\n",
    "    n = 0\n",
    "    for u, v in adjacent_list:\n",
    "        n = max(n, u)\n",
    "        n = max(n, v)\n",
    "    n += 1\n",
    "    adjacent_matrix = [[-1] * n for k in range(n)]\n",
    "    for i in range(n):\n",
    "        adjacent_matrix[i][i] = 0\n",
    "    for u, v in adjacent_list:\n",
    "        adjacent_matrix[u][v] = adjacent_matrix[v][u] = 1\n",
    "    \n",
    "    for k in range(n):\n",
    "        for i in range(n):\n",
    "            for j in range(n):\n",
    "                if adjacent_matrix[i][j] == -1:\n",
    "                    adjacent_matrix[i][j] = 2147483647\n",
    "                adjacent_matrix[i][j] = min(adjacent_matrix[i][j], adjacent_matrix[i][k] + adjacent_matrix[k][j])\n",
    "                \n",
    "    return adjacent_matrix\n",
    "    "
   ]
  },
  {
   "cell_type": "code",
   "execution_count": 132,
   "metadata": {},
   "outputs": [],
   "source": [
    "# Two Level Mapping\n",
    "def two_level_mapping_cost(circuit, architecture):\n",
    "    outside_cost = 0\n",
    "    \n",
    "    distances = all_pair_shortest_paths(architecture)\n",
    "    print(rand_circuit1.data[0][1][0].index)\n",
    "    \n",
    "    indices = []\n",
    "    \n",
    "    for gate in circuit.data:\n",
    "        for qubit in gate[1]:\n",
    "            indices.append(qubit.index)\n",
    "    for index in indices:\n",
    "        outside_cost += distances[index][indices[0]]\n",
    "        \n",
    "    inside_cost = 20 * len(circuit.data)\n",
    "    \n",
    "    return outside_cost + inside_cost"
   ]
  },
  {
   "cell_type": "code",
   "execution_count": 118,
   "metadata": {},
   "outputs": [
    {
     "name": "stdout",
     "output_type": "stream",
     "text": [
      "10\n"
     ]
    },
    {
     "data": {
      "text/plain": [
       "122"
      ]
     },
     "execution_count": 118,
     "metadata": {},
     "output_type": "execute_result"
    }
   ],
   "source": [
    "two_level_mapping_cost(rand_circuit1, INDEX_CONNECTION_LIST['53QBT'])"
   ]
  },
  {
   "cell_type": "code",
   "execution_count": 136,
   "metadata": {},
   "outputs": [],
   "source": [
    "def run_experiment(n_qubits, architecture):\n",
    "    results = []\n",
    "    for i in range(10):\n",
    "        print('running', i)\n",
    "        rand_circuit = generate_random_mct_circuit(n_qubits=n_qubits, n_gates=i*10+10, control_qubits=[3])\n",
    "        result = qiskit_baselines(rand_circuit)\n",
    "        result['two_level_mapping'] = two_level_mapping_cost(rand_circuit, INDEX_CONNECTION_LIST['53QBT'])\n",
    "        results.append(result)\n",
    "        print(result)\n",
    "    return results"
   ]
  },
  {
   "cell_type": "code",
   "execution_count": 137,
   "metadata": {},
   "outputs": [
    {
     "name": "stdout",
     "output_type": "stream",
     "text": [
      "running 0\n",
      "run basic\n",
      "run stochastic\n",
      "10\n",
      "{'basic_swap': 1257, 'stochastic_swap': 1254, 'two_level_mapping': 495}\n",
      "running 1\n",
      "run basic\n",
      "run stochastic\n",
      "10\n",
      "{'basic_swap': 2538, 'stochastic_swap': 2463, 'two_level_mapping': 1068}\n",
      "running 2\n",
      "run basic\n",
      "run stochastic\n",
      "10\n",
      "{'basic_swap': 3720, 'stochastic_swap': 3837, 'two_level_mapping': 1476}\n",
      "running 3\n",
      "run basic\n",
      "run stochastic\n",
      "10\n",
      "{'basic_swap': 5430, 'stochastic_swap': 4857, 'two_level_mapping': 1920}\n",
      "running 4\n",
      "run basic\n",
      "run stochastic\n",
      "10\n",
      "{'basic_swap': 6630, 'stochastic_swap': 6888, 'two_level_mapping': 2536}\n",
      "running 5\n",
      "run basic\n",
      "run stochastic\n",
      "10\n",
      "{'basic_swap': 7869, 'stochastic_swap': 7362, 'two_level_mapping': 3539}\n",
      "running 6\n",
      "run basic\n",
      "run stochastic\n",
      "10\n",
      "{'basic_swap': 9792, 'stochastic_swap': 9540, 'two_level_mapping': 3771}\n",
      "running 7\n",
      "run basic\n",
      "run stochastic\n",
      "10\n",
      "{'basic_swap': 11061, 'stochastic_swap': 10710, 'two_level_mapping': 3991}\n",
      "running 8\n",
      "run basic\n",
      "run stochastic\n",
      "10\n",
      "{'basic_swap': 12225, 'stochastic_swap': 11568, 'two_level_mapping': 5107}\n",
      "running 9\n",
      "run basic\n",
      "run stochastic\n",
      "10\n",
      "{'basic_swap': 13710, 'stochastic_swap': 13359, 'two_level_mapping': 5250}\n"
     ]
    }
   ],
   "source": [
    "results = run_experiment(53, INDEX_CONNECTION_LIST['53QBT'])"
   ]
  },
  {
   "cell_type": "code",
   "execution_count": 140,
   "metadata": {},
   "outputs": [
    {
     "data": {
      "text/plain": [
       "<matplotlib.legend.Legend at 0x2c33c568240>"
      ]
     },
     "execution_count": 140,
     "metadata": {},
     "output_type": "execute_result"
    },
    {
     "data": {
      "image/png": "[encoded data removed]",
      "text/plain": [
       "<Figure size 432x288 with 1 Axes>"
      ]
     },
     "metadata": {
      "needs_background": "light"
     },
     "output_type": "display_data"
    }
   ],
   "source": [
    "import matplotlib.pyplot as plt\n",
    "import matplotlib.patches as mpatches\n",
    "\n",
    "fig, ax = plt.subplots()\n",
    "\n",
    "X = [10 * i for i in range(1, 11)]\n",
    "basic_swap = []\n",
    "stochastic_swap = []\n",
    "two_level_mapping = []\n",
    "\n",
    "for result in results:\n",
    "    basic_swap.append(result['basic_swap'])\n",
    "    stochastic_swap.append(result['stochastic_swap'])\n",
    "    two_level_mapping.append(result['two_level_mapping'])\n",
    "\n",
    "ax.plot(X, basic_swap, '-', color='teal')\n",
    "ax.plot(X, stochastic_swap, '-', color='brown')\n",
    "ax.plot(X, two_level_mapping, '-', color='orange')\n",
    "teal_patch = mpatches.Patch(color='teal', label='basic_swap (QISKIT)')\n",
    "brown_patch = mpatches.Patch(color='brown', label='stochastic_swap (QISKIT)')\n",
    "orange_patch = mpatches.Patch(color='orange', label='two_level')\n",
    "ax.legend(handles=[teal_patch, brown_patch, orange_patch])\n",
    "\n"
   ]
  },
  {
   "cell_type": "code",
   "execution_count": 6,
   "metadata": {},
   "outputs": [],
   "source": [
    "def get_node_count(edge_list):\n",
    "    n = 0\n",
    "    for u, v in edge_list:\n",
    "        n = max(n, u)\n",
    "        n = max(n, v)\n",
    "    n += 1\n",
    "    return n\n",
    "\n",
    "def is_isomorphic(edge_list1, edge_list2):\n",
    "    n, m = get_node_count(edge_list1), get_node_count(edge_list2)\n",
    "    if n != m: return False\n",
    "    \n",
    "    g1 = [[] for i in range(n)]\n",
    "    g2 = [[] for i in range(n)]\n",
    "    \n",
    "    for u, v in edge_list1:\n",
    "        g1[u].append(v)\n",
    "        g1[v].append(u)\n",
    "        \n",
    "    for u, v in edge_list2:\n",
    "        g2[u].append(v)\n",
    "        g2[v].append(u)\n",
    "        \n",
    "    used = [False] * n\n",
    "    mapping = [-1] * n\n",
    "        \n",
    "    def find_map(index):\n",
    "        if index == n: return True\n",
    "        for i in range(n):\n",
    "            if not used[i] and len(g2[i]) == len(g1[index]):\n",
    "                mapped_list = list(map(lambda x: mapping[x], g1[index]))\n",
    "                processed_list = list(map(lambda x: x if used[x] else -1, g2[i]))\n",
    "                \n",
    "                if sorted(mapped_list) == sorted(processed_list):\n",
    "                    used[i] = True\n",
    "                    mapping[index] = i\n",
    "                    if find_map(index + 1):\n",
    "                        return True\n",
    "                    used[i] = False\n",
    "                    mapping[index] = -1\n",
    "        return False\n",
    "\n",
    "    result = find_map(0)\n",
    "    \n",
    "#     print(mapping)\n",
    "    \n",
    "    return result\n",
    "                               \n",
    "        "
   ]
  },
  {
   "cell_type": "code",
   "execution_count": 7,
   "metadata": {},
   "outputs": [],
   "source": [
    "import itertools\n",
    "\n",
    "def find_all_subgraphs(edge_list=INDEX_CONNECTION_LIST['53QBT'], n_qubits=4):\n",
    "    perms = list(itertools.permutations(list(range(n_qubits))))\n",
    "    \n",
    "    n = get_node_count(edge_list)\n",
    "    \n",
    "    adjacent_matrix = [[-1] * n for k in range(n)]\n",
    "    visited = [False] * n\n",
    "    \n",
    "    for i in range(n):\n",
    "        adjacent_matrix[i][i] = 0\n",
    "    for u, v in edge_list:\n",
    "        adjacent_matrix[u][v] = adjacent_matrix[v][u] = 1\n",
    "\n",
    "    subgraphs = []\n",
    "    graph_hashes = set()\n",
    "        \n",
    "    def dfs(count, limit, node_list):\n",
    "        if count == limit:\n",
    "            edges = []\n",
    "            for i, v in enumerate(node_list):\n",
    "                for j, u in enumerate(node_list):\n",
    "                    if j > i and adjacent_matrix[v][u] > 0:\n",
    "                        edges.append((i, j))\n",
    "            hashed_graph = str(edges)\n",
    "            if hashed_graph not in graph_hashes:\n",
    "                duplicated = False\n",
    "                for subgraph in subgraphs:\n",
    "                    if is_isomorphic(subgraph, edges):\n",
    "                        duplicated = True\n",
    "                        break\n",
    "                if not duplicated:\n",
    "                    graph_hashes.add(hashed_graph)\n",
    "                    subgraphs.append(edges.copy())\n",
    "            return\n",
    "        for u in range(n):\n",
    "            for v in node_list:\n",
    "                if adjacent_matrix[v][u] > 0 and not visited[u]:\n",
    "                    visited[u] = True\n",
    "                    dfs(count + 1, limit, node_list + [u])\n",
    "                    visited[v] = True\n",
    "        return\n",
    "    \n",
    "    for i in range(n):\n",
    "        visited[i] = True\n",
    "        dfs(1, n_qubits, [i])\n",
    "        visited[i] = False\n",
    "    \n",
    "#     print(subgraphs)\n",
    "    return subgraphs\n",
    "        "
   ]
  },
  {
   "cell_type": "code",
   "execution_count": 75,
   "metadata": {},
   "outputs": [
    {
     "name": "stdout",
     "output_type": "stream",
     "text": [
      "7\n"
     ]
    }
   ],
   "source": [
    "chunks = find_all_subgraphs(edge_list=INDEX_CONNECTION_LIST['53QBT'], n_qubits=11)\n",
    "print(len(chunks))"
   ]
  },
  {
   "cell_type": "code",
   "execution_count": 16,
   "metadata": {},
   "outputs": [],
   "source": [
    "# Use 8-CNOT Toffoli to decompose\n",
    "def generate_all_templates(architecture=INDEX_CONNECTION_LIST['53QBT'], control_qubits=3, mode='v-chain'):\n",
    "    QBIT_TYPES = ['control', 'ancilla', 'output']\n",
    "    \n",
    "    total_qubits = 0\n",
    "    if mode == 'v-chain':\n",
    "        total_qubits = control_qubits * 2 - 1\n",
    "    else:\n",
    "        raise Error('fuck')\n",
    "\n",
    "    subgraphs = find_all_subgraphs(architecture, total_qubits)\n",
    "    \n",
    "    def generate_color_schemes(colors, qbit_types):\n",
    "        if colors[0] == 0 and colors[1] == 0 and colors[2] == 0:\n",
    "            return [qbit_types]\n",
    "        \n",
    "        all_arangements = []\n",
    "        \n",
    "        for i in range(3):\n",
    "            if colors[i] > 0:\n",
    "                colors[i] -= 1\n",
    "                all_arangements += generate_color_schemes(colors, qbit_types + [i])\n",
    "                colors[i] += 1\n",
    "        \n",
    "        return all_arangements\n",
    "        \n",
    "    def calculate_template_cost(edge_list, qbit_types):\n",
    "        return 0\n",
    "    \n",
    "    color_schemes = generate_color_schemes([control_qubits, control_qubits-2, 1], [])\n",
    "    \n",
    "    print(color_schemes)\n",
    "    \n",
    "#     for subgraph in subgraphs:\n",
    "#         templates = generate_template_arrangements(subgraph, control_qubits, control_qubits-2, 1, [])\n",
    "        "
   ]
  },
  {
   "cell_type": "code",
   "execution_count": 17,
   "metadata": {},
   "outputs": [
    {
     "name": "stdout",
     "output_type": "stream",
     "text": [
      "[[0, 0, 0, 1, 2], [0, 0, 0, 2, 1], [0, 0, 1, 0, 2], [0, 0, 1, 2, 0], [0, 0, 2, 0, 1], [0, 0, 2, 1, 0], [0, 1, 0, 0, 2], [0, 1, 0, 2, 0], [0, 1, 2, 0, 0], [0, 2, 0, 0, 1], [0, 2, 0, 1, 0], [0, 2, 1, 0, 0], [1, 0, 0, 0, 2], [1, 0, 0, 2, 0], [1, 0, 2, 0, 0], [1, 2, 0, 0, 0], [2, 0, 0, 0, 1], [2, 0, 0, 1, 0], [2, 0, 1, 0, 0], [2, 1, 0, 0, 0]]\n"
     ]
    }
   ],
   "source": [
    "generate_all_templates()"
   ]
  },
  {
   "cell_type": "code",
   "execution_count": 59,
   "metadata": {},
   "outputs": [
    {
     "name": "stdout",
     "output_type": "stream",
     "text": [
      "[1, 2, 3, 4, 0]\n"
     ]
    },
    {
     "data": {
      "text/plain": [
       "True"
      ]
     },
     "execution_count": 59,
     "metadata": {},
     "output_type": "execute_result"
    }
   ],
   "source": [
    "is_isomorphic([(0, 1), (0, 4), (1, 2), (2, 3)], [(0, 1), (1, 2), (2, 3), (3, 4)])"
   ]
  },
  {
   "cell_type": "code",
   "execution_count": null,
   "metadata": {},
   "outputs": [],
   "source": []
  }
 ],
 "metadata": {
  "kernelspec": {
   "display_name": "Python 3",
   "language": "python",
   "name": "python3"
  },
  "language_info": {
   "codemirror_mode": {
    "name": "ipython",
    "version": 3
   },
   "file_extension": ".py",
   "mimetype": "text/x-python",
   "name": "python",
   "nbconvert_exporter": "python",
   "pygments_lexer": "ipython3",
   "version": "3.7.3"
  }
 },
 "nbformat": 4,
 "nbformat_minor": 2
}
